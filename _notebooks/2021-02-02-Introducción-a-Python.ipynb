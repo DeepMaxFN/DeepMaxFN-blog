{
  "nbformat": 4,
  "nbformat_minor": 0,
  "metadata": {
    "colab": {
      "name": "2021-XX-YY-Introducción-a-Python.ipynb",
      "provenance": [],
      "collapsed_sections": [],
      "toc_visible": true,
      "authorship_tag": "ABX9TyNbyrLjCgGIaZ+u33yLXGyN"
    },
    "kernelspec": {
      "name": "python3",
      "display_name": "Python 3"
    }
  },
  "cells": [
    {
      "cell_type": "markdown",
      "metadata": {
        "id": "dsaKCKL0IxZl"
      },
      "source": [
        "# Introducción a Python\r\n",
        "> Una breve introducción al lenguaje de programación Python\r\n",
        "\r\n",
        "- toc: true \r\n",
        "- badges: true\r\n",
        "- comments: true\r\n",
        "- categories: [deepmaxfn, python]\r\n",
        "- image: images/icon-python.png"
      ]
    },
    {
      "cell_type": "markdown",
      "metadata": {
        "id": "Ho_8zgIiI0We"
      },
      "source": [
        "## Resumen"
      ]
    },
    {
      "cell_type": "markdown",
      "metadata": {
        "id": "tT4POPIFNU9M"
      },
      "source": [
        "`Vamos a hacer una breve introducción a Python, explicando los tipos de datos que tenemos, el uso de funciones y de clases`\r\n",
        "\r\n",
        "![python](https://openwhisk.apache.org/images/runtimes/icon-python-text-color-horz.png)"
      ]
    },
    {
      "cell_type": "markdown",
      "metadata": {
        "id": "bVHYziwKQRnG"
      },
      "source": [
        "## Tipos de datos de Python"
      ]
    },
    {
      "cell_type": "markdown",
      "metadata": {
        "id": "y-u-BTORQUwq"
      },
      "source": [
        "Existen 7 tipos de datos en Python\r\n",
        "\r\n",
        "\r\n",
        "\r\n",
        "1. De tipo texto:`str`\r\n",
        "2. Numéricos:`int`, `float`, `complex`\r\n",
        "3. Secuencias: `list`, `tuple`, `range`\r\n",
        "4. Mapping: `dict`\r\n",
        "5. Sets: `set`, `frozenset`\r\n",
        "6. Booleanos: `bool`\r\n",
        "7. Binarios: `bytes`, `bytearray`, `memoryview`\r\n",
        "\r\n"
      ]
    },
    {
      "cell_type": "markdown",
      "metadata": {
        "id": "f4uMzcu5a5qJ"
      },
      "source": [
        "Podemos obtener el tipo de dato mediante la función `type()`"
      ]
    },
    {
      "cell_type": "code",
      "metadata": {
        "colab": {
          "base_uri": "https://localhost:8080/"
        },
        "id": "Py_OA6f6a-vg",
        "outputId": "055be1f0-47a4-416b-d6f3-edc1ca386ffe"
      },
      "source": [
        "type(5.)"
      ],
      "execution_count": null,
      "outputs": [
        {
          "output_type": "execute_result",
          "data": {
            "text/plain": [
              "float"
            ]
          },
          "metadata": {
            "tags": []
          },
          "execution_count": 1
        }
      ]
    },
    {
      "cell_type": "markdown",
      "metadata": {
        "id": "oLmx_2SObIka"
      },
      "source": [
        "Python es un lenguaje de tipado dinámico, es decir puedes tener una variable de un tipo y luego asignarle otro tipo"
      ]
    },
    {
      "cell_type": "code",
      "metadata": {
        "colab": {
          "base_uri": "https://localhost:8080/"
        },
        "id": "jTV1z1JGbQGA",
        "outputId": "97556282-a52a-4693-a951-2d8ee360fe9c"
      },
      "source": [
        "a = 5\r\n",
        "type(a)"
      ],
      "execution_count": null,
      "outputs": [
        {
          "output_type": "execute_result",
          "data": {
            "text/plain": [
              "int"
            ]
          },
          "metadata": {
            "tags": []
          },
          "execution_count": 2
        }
      ]
    },
    {
      "cell_type": "code",
      "metadata": {
        "colab": {
          "base_uri": "https://localhost:8080/"
        },
        "id": "7S5eSnqBbTEC",
        "outputId": "b4b400e3-f3fb-4984-bf6e-66019f91a926"
      },
      "source": [
        "a = 'DeepMaxFn'\r\n",
        "type(a)"
      ],
      "execution_count": null,
      "outputs": [
        {
          "output_type": "execute_result",
          "data": {
            "text/plain": [
              "str"
            ]
          },
          "metadata": {
            "tags": []
          },
          "execution_count": 3
        }
      ]
    },
    {
      "cell_type": "markdown",
      "metadata": {
        "id": "TQx6S0jwbYiz"
      },
      "source": [
        "Python tipa las variables por ti, pero si las quieres tipar tu se puede hacer"
      ]
    },
    {
      "cell_type": "code",
      "metadata": {
        "colab": {
          "base_uri": "https://localhost:8080/"
        },
        "id": "TwGUvyslbdZG",
        "outputId": "dff3a646-e9be-4978-9927-2b4efd139f82"
      },
      "source": [
        "b = int(5.1)\r\n",
        "type(b), b"
      ],
      "execution_count": null,
      "outputs": [
        {
          "output_type": "execute_result",
          "data": {
            "text/plain": [
              "(int, 5)"
            ]
          },
          "metadata": {
            "tags": []
          },
          "execution_count": 4
        }
      ]
    },
    {
      "cell_type": "markdown",
      "metadata": {
        "id": "66LM7aCxbmrv"
      },
      "source": [
        "Aunque `b` se ha inicializado como `5.1`, es decir, debería ser de tipo `float`, al tiparlo nosotros a tipo `int`, vemos que es de tipo `int` y además su valor es `5`"
      ]
    },
    {
      "cell_type": "markdown",
      "metadata": {
        "id": "Hjo7Gcv9ST6X"
      },
      "source": [
        "### 1. Strings"
      ]
    },
    {
      "cell_type": "markdown",
      "metadata": {
        "id": "D0u3XwpxS4g4"
      },
      "source": [
        "Los `strings` son cadenas de caracteres, estos se pueden definir con doble comilla `\"` o comilla simple `'`"
      ]
    },
    {
      "cell_type": "code",
      "metadata": {
        "colab": {
          "base_uri": "https://localhost:8080/",
          "height": 35
        },
        "id": "LxTlUwWdSmQW",
        "outputId": "7176dfb7-4547-4bc8-c3be-781c85dacd63"
      },
      "source": [
        "string = \"DeepMaxFn\"\r\n",
        "string"
      ],
      "execution_count": null,
      "outputs": [
        {
          "output_type": "execute_result",
          "data": {
            "application/vnd.google.colaboratory.intrinsic+json": {
              "type": "string"
            },
            "text/plain": [
              "'DeepMaxFn'"
            ]
          },
          "metadata": {
            "tags": []
          },
          "execution_count": 5
        }
      ]
    },
    {
      "cell_type": "code",
      "metadata": {
        "colab": {
          "base_uri": "https://localhost:8080/",
          "height": 35
        },
        "id": "JUGeuIjLTLTt",
        "outputId": "4ab21a3e-ce0c-4d29-fd39-f977fe37ebb5"
      },
      "source": [
        "string = 'DeepMaxFn'\r\n",
        "string"
      ],
      "execution_count": null,
      "outputs": [
        {
          "output_type": "execute_result",
          "data": {
            "application/vnd.google.colaboratory.intrinsic+json": {
              "type": "string"
            },
            "text/plain": [
              "'DeepMaxFn'"
            ]
          },
          "metadata": {
            "tags": []
          },
          "execution_count": 6
        }
      ]
    },
    {
      "cell_type": "markdown",
      "metadata": {
        "id": "Ksz8_W3mThHM"
      },
      "source": [
        "Para escribir un `string` muy largo y no tener una fila que ocupe mucho espacio se puede introducir en varias lineas"
      ]
    },
    {
      "cell_type": "code",
      "metadata": {
        "colab": {
          "base_uri": "https://localhost:8080/",
          "height": 35
        },
        "id": "AxZS5ie5TOOa",
        "outputId": "593f737e-fb0e-4f36-b524-c6cf6d4a8eea"
      },
      "source": [
        "string = \"\"\"Este es un ejemplo de\r\n",
        "como estoy introduciendo un string\r\n",
        "en varias lineas\"\"\"\r\n",
        "string"
      ],
      "execution_count": null,
      "outputs": [
        {
          "output_type": "execute_result",
          "data": {
            "application/vnd.google.colaboratory.intrinsic+json": {
              "type": "string"
            },
            "text/plain": [
              "'Este es un ejemplo de\\ncomo estoy introduciendo un string\\nen varias lineas'"
            ]
          },
          "metadata": {
            "tags": []
          },
          "execution_count": 7
        }
      ]
    },
    {
      "cell_type": "code",
      "metadata": {
        "colab": {
          "base_uri": "https://localhost:8080/",
          "height": 35
        },
        "id": "6gpYdZBxTxuZ",
        "outputId": "5f755c2d-e535-4b66-cd3f-8a6a09eca980"
      },
      "source": [
        "string = '''Este es un ejemplo de\r\n",
        "como estoy introduciendo un string\r\n",
        "en varias lineas'''\r\n",
        "string"
      ],
      "execution_count": null,
      "outputs": [
        {
          "output_type": "execute_result",
          "data": {
            "application/vnd.google.colaboratory.intrinsic+json": {
              "type": "string"
            },
            "text/plain": [
              "'Este es un ejemplo de\\ncomo estoy introduciendo un string\\nen varias lineas'"
            ]
          },
          "metadata": {
            "tags": []
          },
          "execution_count": 8
        }
      ]
    },
    {
      "cell_type": "markdown",
      "metadata": {
        "id": "ZKUxEuzeUDeu"
      },
      "source": [
        "Sin embargo vemos que en medio ha metido el caracter `\\n`, este caracter indica el salto de linea. Si usamos la función `print()` veremos como ya no aparece"
      ]
    },
    {
      "cell_type": "code",
      "metadata": {
        "colab": {
          "base_uri": "https://localhost:8080/"
        },
        "id": "pNJmfstQT4sp",
        "outputId": "b8c662e4-7ef3-4faa-d98c-89c073fef077"
      },
      "source": [
        "print(string)"
      ],
      "execution_count": null,
      "outputs": [
        {
          "output_type": "stream",
          "text": [
            "Este es un ejemplo de\n",
            "como estoy introduciendo un string\n",
            "en varias lineas\n"
          ],
          "name": "stdout"
        }
      ]
    },
    {
      "cell_type": "markdown",
      "metadata": {
        "id": "IyX_CpSCUZhD"
      },
      "source": [
        "Como hemos dicho los strings son cadenas de caracteres, por lo que podemos navegar e iterar a traves de ellos"
      ]
    },
    {
      "cell_type": "code",
      "metadata": {
        "colab": {
          "base_uri": "https://localhost:8080/"
        },
        "id": "fePQ_RHVUQVk",
        "outputId": "08df41ca-1ef2-46ce-bfe9-db5ca559c4ab"
      },
      "source": [
        "for i in range(10):\r\n",
        "  # Se indica a la función print que cuando imprima no termine con un salto de \r\n",
        "  # linea para escribir todo en la misma linea\r\n",
        "  print(string[i], end='')"
      ],
      "execution_count": null,
      "outputs": [
        {
          "output_type": "stream",
          "text": [
            "Este es un"
          ],
          "name": "stdout"
        }
      ]
    },
    {
      "cell_type": "markdown",
      "metadata": {
        "id": "L2f5ZHA0Vaas"
      },
      "source": [
        "Podemos obtener la longitud de nuestro string mediante la función `len()`"
      ]
    },
    {
      "cell_type": "code",
      "metadata": {
        "colab": {
          "base_uri": "https://localhost:8080/"
        },
        "id": "F4_iYrxNUiQD",
        "outputId": "c883cc64-feaf-4700-ed76-a1e7bb9e4729"
      },
      "source": [
        "len(string)"
      ],
      "execution_count": null,
      "outputs": [
        {
          "output_type": "execute_result",
          "data": {
            "text/plain": [
              "73"
            ]
          },
          "metadata": {
            "tags": []
          },
          "execution_count": 12
        }
      ]
    },
    {
      "cell_type": "markdown",
      "metadata": {
        "id": "sTD9lUv0Vm9C"
      },
      "source": [
        "Checkear si hay ulgun string determinado dentro del nuestro"
      ]
    },
    {
      "cell_type": "code",
      "metadata": {
        "colab": {
          "base_uri": "https://localhost:8080/"
        },
        "id": "OTDxGBOQVhU2",
        "outputId": "de56c1c9-acc6-45aa-e5a2-90668e4f82b9"
      },
      "source": [
        "'ejemplo' in string"
      ],
      "execution_count": null,
      "outputs": [
        {
          "output_type": "execute_result",
          "data": {
            "text/plain": [
              "True"
            ]
          },
          "metadata": {
            "tags": []
          },
          "execution_count": 13
        }
      ]
    },
    {
      "cell_type": "markdown",
      "metadata": {
        "id": "VTgQl9DVnSxo"
      },
      "source": [
        "Los strings tienen ciertos atributos útiles, como poner todo en mayusculas"
      ]
    },
    {
      "cell_type": "code",
      "metadata": {
        "colab": {
          "base_uri": "https://localhost:8080/"
        },
        "id": "FId4-4wIV0xt",
        "outputId": "71724ec6-2d3f-49e1-951b-e9cc18a83d51"
      },
      "source": [
        "print(string.upper())"
      ],
      "execution_count": null,
      "outputs": [
        {
          "output_type": "stream",
          "text": [
            "ESTE ES UN EJEMPLO DE\n",
            "COMO ESTOY INTRODUCIENDO UN STRING\n",
            "EN VARIAS LINEAS\n"
          ],
          "name": "stdout"
        }
      ]
    },
    {
      "cell_type": "markdown",
      "metadata": {
        "id": "8xx2cw5enese"
      },
      "source": [
        "Todo en minúsculas"
      ]
    },
    {
      "cell_type": "code",
      "metadata": {
        "colab": {
          "base_uri": "https://localhost:8080/"
        },
        "id": "w8K3wcOpnbfU",
        "outputId": "8e5c4f61-b358-4b60-9b8f-903348926dd7"
      },
      "source": [
        "print(string.lower())"
      ],
      "execution_count": null,
      "outputs": [
        {
          "output_type": "stream",
          "text": [
            "este es un ejemplo de\n",
            "como estoy introduciendo un string\n",
            "en varias lineas\n"
          ],
          "name": "stdout"
        }
      ]
    },
    {
      "cell_type": "markdown",
      "metadata": {
        "id": "DLky-hJCnm0c"
      },
      "source": [
        "Reemplazar caracteres"
      ]
    },
    {
      "cell_type": "code",
      "metadata": {
        "colab": {
          "base_uri": "https://localhost:8080/"
        },
        "id": "xqZ0Tyqenpf5",
        "outputId": "eb3c8a82-d93a-467c-b2ee-01e2cab7c43f"
      },
      "source": [
        "print(string.replace('o', '@'))"
      ],
      "execution_count": null,
      "outputs": [
        {
          "output_type": "stream",
          "text": [
            "Este es un ejempl@ de\n",
            "c@m@ est@y intr@duciend@ un string\n",
            "en varias lineas\n"
          ],
          "name": "stdout"
        }
      ]
    },
    {
      "cell_type": "markdown",
      "metadata": {
        "id": "MxsEu_qOoDw0"
      },
      "source": [
        "Obtener todas las palabras"
      ]
    },
    {
      "cell_type": "code",
      "metadata": {
        "colab": {
          "base_uri": "https://localhost:8080/"
        },
        "id": "-Bho5czxniB7",
        "outputId": "32e41a34-27d2-4a04-9030-3310973bd655"
      },
      "source": [
        "print(string.split())"
      ],
      "execution_count": null,
      "outputs": [
        {
          "output_type": "stream",
          "text": [
            "['Este', 'es', 'un', 'ejemplo', 'de', 'como', 'estoy', 'introduciendo', 'un', 'string', 'en', 'varias', 'lineas']\n"
          ],
          "name": "stdout"
        }
      ]
    },
    {
      "cell_type": "markdown",
      "metadata": {
        "id": "-c1WeEBnoV44"
      },
      "source": [
        "Puedes ver todos los métodos de los strings en este [enlace](https://www.w3schools.com/python/python_strings_methods.asp)"
      ]
    },
    {
      "cell_type": "markdown",
      "metadata": {
        "id": "1_Ght-7AojrB"
      },
      "source": [
        "Otra cosa util que se puede hacer con los strings es concatenarlos"
      ]
    },
    {
      "cell_type": "code",
      "metadata": {
        "colab": {
          "base_uri": "https://localhost:8080/",
          "height": 35
        },
        "id": "g3UsRCQSoHzJ",
        "outputId": "596fc814-d4e4-408e-d6df-fc20809050f7"
      },
      "source": [
        "string1 = 'DeepMax'\r\n",
        "string2 = 'Fn'\r\n",
        "string1 + string2"
      ],
      "execution_count": null,
      "outputs": [
        {
          "output_type": "execute_result",
          "data": {
            "application/vnd.google.colaboratory.intrinsic+json": {
              "type": "string"
            },
            "text/plain": [
              "'DeepMaxFn'"
            ]
          },
          "metadata": {
            "tags": []
          },
          "execution_count": 18
        }
      ]
    },
    {
      "cell_type": "markdown",
      "metadata": {
        "id": "TsPQMJTto29V"
      },
      "source": [
        "Antes explicamos que el caracter `\\n` correspondía a una salto de linea, este caracter especial corresponde a una serie de caracteres especiales llamados `Escape Characters`. Veamos otros"
      ]
    },
    {
      "cell_type": "markdown",
      "metadata": {
        "id": "CZivRY1GpNuS"
      },
      "source": [
        "Si declaramos un string con doble comilla y queremos añadir una doble comilla dentro del string usamos el escape character `\\\"`"
      ]
    },
    {
      "cell_type": "code",
      "metadata": {
        "colab": {
          "base_uri": "https://localhost:8080/"
        },
        "id": "WZhVLbR9ot5v",
        "outputId": "15761a29-700e-4aa7-a51e-ff25ff9af6d9"
      },
      "source": [
        "print(\"Este es el blog de \\\"DeepMaxFn\\\"\")"
      ],
      "execution_count": null,
      "outputs": [
        {
          "output_type": "stream",
          "text": [
            "Este es el blog de \"DeepMaxFn\"\n"
          ],
          "name": "stdout"
        }
      ]
    },
    {
      "cell_type": "markdown",
      "metadata": {
        "id": "KqyQciE5qAf3"
      },
      "source": [
        "Lo mismo con la comilla simple, añadimos `\\'`"
      ]
    },
    {
      "cell_type": "code",
      "metadata": {
        "colab": {
          "base_uri": "https://localhost:8080/"
        },
        "id": "tlv4MFgCqD8a",
        "outputId": "2fb4d4a3-17a1-4322-ecef-f44779c99540"
      },
      "source": [
        "print('Este es el blog de \\'DeepMaxFn\\'')"
      ],
      "execution_count": null,
      "outputs": [
        {
          "output_type": "stream",
          "text": [
            "Este es el blog de 'DeepMaxFn'\n"
          ],
          "name": "stdout"
        }
      ]
    },
    {
      "cell_type": "markdown",
      "metadata": {
        "id": "195gTIStpjFn"
      },
      "source": [
        "Ahora tenemos el problema de si queremos añadir el caracter `\\` ya que como hemos visto es un `escape character`, así que lo solucionamos poniendo doble barra (backslash) `\\\\`"
      ]
    },
    {
      "cell_type": "code",
      "metadata": {
        "colab": {
          "base_uri": "https://localhost:8080/"
        },
        "id": "IBSW6Hh8peYu",
        "outputId": "2c651aa8-6721-4b3f-c083-ee333261a976"
      },
      "source": [
        "print('Este es el blog de \\\\DeepMaxFn\\\\')"
      ],
      "execution_count": null,
      "outputs": [
        {
          "output_type": "stream",
          "text": [
            "Este es el blog de \\DeepMaxFn\\\n"
          ],
          "name": "stdout"
        }
      ]
    },
    {
      "cell_type": "markdown",
      "metadata": {
        "id": "rI2qaqCeqTS1"
      },
      "source": [
        "Ya vimos antes el `escape character` de nueva linea `\\n`"
      ]
    },
    {
      "cell_type": "code",
      "metadata": {
        "colab": {
          "base_uri": "https://localhost:8080/"
        },
        "id": "5t_0-Jk6qOW1",
        "outputId": "b447acfc-3bb6-467b-ca21-a2d926d635f2"
      },
      "source": [
        "print('Este es el blog de \\nDeepMaxFn')"
      ],
      "execution_count": null,
      "outputs": [
        {
          "output_type": "stream",
          "text": [
            "Este es el blog de \n",
            "DeepMaxFn\n"
          ],
          "name": "stdout"
        }
      ]
    },
    {
      "cell_type": "markdown",
      "metadata": {
        "id": "sIYpuXo9qoFU"
      },
      "source": [
        "Si queremos escribir desde el inicio de linea añadimos `\\r`"
      ]
    },
    {
      "cell_type": "code",
      "metadata": {
        "colab": {
          "base_uri": "https://localhost:8080/"
        },
        "id": "0Q7uZCrrqbgP",
        "outputId": "1ebc4b4b-3f5b-4c98-e8cd-58027093f912"
      },
      "source": [
        "print('Esto no se imprimirá \\rEste es el blog de DeepMaxFn')"
      ],
      "execution_count": null,
      "outputs": [
        {
          "output_type": "stream",
          "text": [
            "Esto no se imprimirá \rEste es el blog de DeepMaxFn\n"
          ],
          "name": "stdout"
        }
      ]
    },
    {
      "cell_type": "markdown",
      "metadata": {
        "id": "Zqh2fs9RVzTz"
      },
      "source": [
        "Si queremos añadir añadir un espacio grande (sangría) usamos `\\t`"
      ]
    },
    {
      "cell_type": "code",
      "metadata": {
        "colab": {
          "base_uri": "https://localhost:8080/"
        },
        "id": "7BMPg97vqiCt",
        "outputId": "dac54d13-7de1-45b5-e407-2500b012173a"
      },
      "source": [
        "print('Este es el blog de \\tDeepMaxFn')"
      ],
      "execution_count": null,
      "outputs": [
        {
          "output_type": "stream",
          "text": [
            "Este es el blog de \tDeepMaxFn\n"
          ],
          "name": "stdout"
        }
      ]
    },
    {
      "cell_type": "markdown",
      "metadata": {
        "id": "IbZHgwNwWRt_"
      },
      "source": [
        "Podemos borrar un caracter con `\\b`"
      ]
    },
    {
      "cell_type": "code",
      "metadata": {
        "colab": {
          "base_uri": "https://localhost:8080/"
        },
        "id": "xwUirtNBV_qf",
        "outputId": "2c910cc8-e9e8-4d89-8fa1-d6a63e6238a1"
      },
      "source": [
        "print('Este es el blog de \\bDeepMaxFn')"
      ],
      "execution_count": null,
      "outputs": [
        {
          "output_type": "stream",
          "text": [
            "Este es el blog de \bDeepMaxFn\n"
          ],
          "name": "stdout"
        }
      ]
    },
    {
      "cell_type": "markdown",
      "metadata": {
        "id": "U1FILwMxWVWG"
      },
      "source": [
        "Podemos añadir el codigo [ASCII](http://www.asciitable.com/) en octal mediante `\\ooo`"
      ]
    },
    {
      "cell_type": "code",
      "metadata": {
        "colab": {
          "base_uri": "https://localhost:8080/"
        },
        "id": "lUmzlDJRWGhZ",
        "outputId": "2bf3b480-c747-4fdf-f5bc-c38b4292bce5"
      },
      "source": [
        "print('\\104\\145\\145\\160\\115\\141\\170\\106\\156')"
      ],
      "execution_count": null,
      "outputs": [
        {
          "output_type": "stream",
          "text": [
            "DeepMaxFn\n"
          ],
          "name": "stdout"
        }
      ]
    },
    {
      "cell_type": "markdown",
      "metadata": {
        "id": "L5wFBHq8YOVx"
      },
      "source": [
        "O añadir el codigo [ASCII](http://www.asciitable.com/) en hexadecimal mediante `\\xhh`"
      ]
    },
    {
      "cell_type": "code",
      "metadata": {
        "colab": {
          "base_uri": "https://localhost:8080/"
        },
        "id": "nrzXdTUNWKiy",
        "outputId": "3f1878fb-743f-4484-b6a8-7226932d0964"
      },
      "source": [
        "print('\\x44\\x65\\x65\\x70\\x4d\\x61\\x78\\x46\\x6e')"
      ],
      "execution_count": null,
      "outputs": [
        {
          "output_type": "stream",
          "text": [
            "DeepMaxFn\n"
          ],
          "name": "stdout"
        }
      ]
    },
    {
      "cell_type": "markdown",
      "metadata": {
        "id": "6HoijZk6bRcA"
      },
      "source": [
        "Por último, podemos convertir otro tipo de dato a string"
      ]
    },
    {
      "cell_type": "code",
      "metadata": {
        "colab": {
          "base_uri": "https://localhost:8080/"
        },
        "id": "5OgnubMJbWKQ",
        "outputId": "730f32be-a94f-427d-fee8-d0fad719302c"
      },
      "source": [
        "n = 5\r\n",
        "print(type (n))\r\n",
        "string = str(n)\r\n",
        "print(type(string))"
      ],
      "execution_count": null,
      "outputs": [
        {
          "output_type": "stream",
          "text": [
            "<class 'int'>\n",
            "<class 'str'>\n"
          ],
          "name": "stdout"
        }
      ]
    },
    {
      "cell_type": "markdown",
      "metadata": {
        "id": "yUsVAnQRZFjD"
      },
      "source": [
        "### 2. Números"
      ]
    },
    {
      "cell_type": "markdown",
      "metadata": {
        "id": "NA3qgNT8Zksc"
      },
      "source": [
        "#### 2.1. Enteros"
      ]
    },
    {
      "cell_type": "markdown",
      "metadata": {
        "id": "3DXSQIMJahgz"
      },
      "source": [
        "Numeros de tipo entero"
      ]
    },
    {
      "cell_type": "code",
      "metadata": {
        "colab": {
          "base_uri": "https://localhost:8080/"
        },
        "id": "dURoN6XMajRV",
        "outputId": "d6d6f5d5-e4f1-467b-fe04-790bdb3f155d"
      },
      "source": [
        "n = 5\r\n",
        "n, type(n)"
      ],
      "execution_count": null,
      "outputs": [
        {
          "output_type": "execute_result",
          "data": {
            "text/plain": [
              "(5, int)"
            ]
          },
          "metadata": {
            "tags": []
          },
          "execution_count": 1
        }
      ]
    },
    {
      "cell_type": "markdown",
      "metadata": {
        "id": "5vzzOtXNZnvN"
      },
      "source": [
        "#### 2.2. Float"
      ]
    },
    {
      "cell_type": "markdown",
      "metadata": {
        "id": "0VY-SGkHamcp"
      },
      "source": [
        "Números de tipo de coma flotante"
      ]
    },
    {
      "cell_type": "code",
      "metadata": {
        "colab": {
          "base_uri": "https://localhost:8080/"
        },
        "id": "dZHJA_WOaotE",
        "outputId": "b69793c9-0bd4-485c-a259-4575236adce1"
      },
      "source": [
        "n = 5.1\r\n",
        "n, type(n)"
      ],
      "execution_count": null,
      "outputs": [
        {
          "output_type": "execute_result",
          "data": {
            "text/plain": [
              "(5.1, float)"
            ]
          },
          "metadata": {
            "tags": []
          },
          "execution_count": 2
        }
      ]
    },
    {
      "cell_type": "markdown",
      "metadata": {
        "id": "iIL3VagZZsEh"
      },
      "source": [
        "#### 2.3. Complejos"
      ]
    },
    {
      "cell_type": "markdown",
      "metadata": {
        "id": "akJYX0yXbJei"
      },
      "source": [
        "Números complejos"
      ]
    },
    {
      "cell_type": "code",
      "metadata": {
        "colab": {
          "base_uri": "https://localhost:8080/"
        },
        "id": "Fe7bMD2Za6Zv",
        "outputId": "3c617a1f-73b2-4d5f-8731-2df3ee3e344e"
      },
      "source": [
        "n = 3 + 5j\r\n",
        "n, type(n)"
      ],
      "execution_count": null,
      "outputs": [
        {
          "output_type": "execute_result",
          "data": {
            "text/plain": [
              "((3+5j), complex)"
            ]
          },
          "metadata": {
            "tags": []
          },
          "execution_count": 3
        }
      ]
    },
    {
      "cell_type": "markdown",
      "metadata": {
        "id": "jQHJ-QCxa1Yn"
      },
      "source": [
        "#### 2.4. Conversión"
      ]
    },
    {
      "cell_type": "markdown",
      "metadata": {
        "id": "HQJRJW8ObLNb"
      },
      "source": [
        "Se puede convertir entre tipos de números"
      ]
    },
    {
      "cell_type": "code",
      "metadata": {
        "colab": {
          "base_uri": "https://localhost:8080/"
        },
        "id": "4JAL2mRea_uz",
        "outputId": "ae06058a-2e45-4557-cdfb-9d07e62c9f53"
      },
      "source": [
        "n = 5\r\n",
        "n = float(n)\r\n",
        "n, type(n)"
      ],
      "execution_count": null,
      "outputs": [
        {
          "output_type": "execute_result",
          "data": {
            "text/plain": [
              "(5.0, float)"
            ]
          },
          "metadata": {
            "tags": []
          },
          "execution_count": 4
        }
      ]
    },
    {
      "cell_type": "code",
      "metadata": {
        "colab": {
          "base_uri": "https://localhost:8080/"
        },
        "id": "cIsS0Vzvbf2p",
        "outputId": "4a56ec72-cdfd-43e7-aeb8-03ff0581b0b1"
      },
      "source": [
        "n = 5.1\r\n",
        "n = complex(n)\r\n",
        "n, type(n)"
      ],
      "execution_count": null,
      "outputs": [
        {
          "output_type": "execute_result",
          "data": {
            "text/plain": [
              "((5.1+0j), complex)"
            ]
          },
          "metadata": {
            "tags": []
          },
          "execution_count": 5
        }
      ]
    },
    {
      "cell_type": "code",
      "metadata": {
        "colab": {
          "base_uri": "https://localhost:8080/"
        },
        "id": "Z_GwdK1tbk51",
        "outputId": "3296982a-c77b-49ad-e606-76f6f653851b"
      },
      "source": [
        "n = 5.1\r\n",
        "n = int(n)\r\n",
        "n, type(n)"
      ],
      "execution_count": null,
      "outputs": [
        {
          "output_type": "execute_result",
          "data": {
            "text/plain": [
              "(5, int)"
            ]
          },
          "metadata": {
            "tags": []
          },
          "execution_count": 6
        }
      ]
    },
    {
      "cell_type": "markdown",
      "metadata": {
        "id": "NGj028sNb14v"
      },
      "source": [
        "No se puede convertir un numero `complex` a tipo `int` o tipo `float`"
      ]
    },
    {
      "cell_type": "markdown",
      "metadata": {
        "id": "XhjyhuDcZSj8"
      },
      "source": [
        "### 3. Secuencias"
      ]
    },
    {
      "cell_type": "markdown",
      "metadata": {
        "id": "xxgnTu3fZxfg"
      },
      "source": [
        "#### 3.1. Listas"
      ]
    },
    {
      "cell_type": "markdown",
      "metadata": {
        "id": "m9OHqYWwiAB_"
      },
      "source": [
        "Las listas guardan múltiples items en una variable. Se declaran mediante los símbolos `[]`, con los items separados por comas"
      ]
    },
    {
      "cell_type": "code",
      "metadata": {
        "colab": {
          "base_uri": "https://localhost:8080/"
        },
        "id": "xFlxCII7iSSb",
        "outputId": "c6f55b62-4dab-418c-e39d-d70bba3fcc08"
      },
      "source": [
        "lista = ['item0', 'item1', 'item2', 'item3', 'item4', 'item5']\r\n",
        "lista"
      ],
      "execution_count": null,
      "outputs": [
        {
          "output_type": "execute_result",
          "data": {
            "text/plain": [
              "['item0', 'item1', 'item2', 'item3', 'item4', 'item5']"
            ]
          },
          "metadata": {
            "tags": []
          },
          "execution_count": 198
        }
      ]
    },
    {
      "cell_type": "markdown",
      "metadata": {
        "id": "7ic_1f7BikbA"
      },
      "source": [
        "Podemos obtener la longitud de una lista mediante la función `len()`"
      ]
    },
    {
      "cell_type": "code",
      "metadata": {
        "colab": {
          "base_uri": "https://localhost:8080/"
        },
        "id": "OETGIj7BioMB",
        "outputId": "c2867f7c-5d16-448d-a956-81f436b7a827"
      },
      "source": [
        "len(lista)"
      ],
      "execution_count": null,
      "outputs": [
        {
          "output_type": "execute_result",
          "data": {
            "text/plain": [
              "6"
            ]
          },
          "metadata": {
            "tags": []
          },
          "execution_count": 199
        }
      ]
    },
    {
      "cell_type": "markdown",
      "metadata": {
        "id": "qBGLpefJitTl"
      },
      "source": [
        "Las listas pueden tener items de distintos tipos"
      ]
    },
    {
      "cell_type": "code",
      "metadata": {
        "colab": {
          "base_uri": "https://localhost:8080/"
        },
        "id": "trCbSZwBiwM5",
        "outputId": "4acf323b-f7cc-4a70-fc2f-051eeca70c26"
      },
      "source": [
        "lista = ['item0', 1, True, 5.3, \"item4\", 5, 6.6]\r\n",
        "lista"
      ],
      "execution_count": null,
      "outputs": [
        {
          "output_type": "execute_result",
          "data": {
            "text/plain": [
              "['item0', 1, True, 5.3, 'item4', 5, 6.6]"
            ]
          },
          "metadata": {
            "tags": []
          },
          "execution_count": 200
        }
      ]
    },
    {
      "cell_type": "markdown",
      "metadata": {
        "id": "SMsz5DE3l7Lc"
      },
      "source": [
        "En Python se empieza a contar desde la posición 0, es decir, si queremos obtener la primera posición de la lista"
      ]
    },
    {
      "cell_type": "code",
      "metadata": {
        "colab": {
          "base_uri": "https://localhost:8080/",
          "height": 35
        },
        "id": "Vm3dvJlrmEGH",
        "outputId": "c3bbb69a-20a7-4c2f-db5a-c5a2274aabfd"
      },
      "source": [
        "lista[0]"
      ],
      "execution_count": null,
      "outputs": [
        {
          "output_type": "execute_result",
          "data": {
            "application/vnd.google.colaboratory.intrinsic+json": {
              "type": "string"
            },
            "text/plain": [
              "'item0'"
            ]
          },
          "metadata": {
            "tags": []
          },
          "execution_count": 201
        }
      ]
    },
    {
      "cell_type": "markdown",
      "metadata": {
        "id": "IiuN4_GimF8b"
      },
      "source": [
        "Pero una de las cosas potentes de Python es que si queremos acceder a la última posición podemos usar índices negativos"
      ]
    },
    {
      "cell_type": "code",
      "metadata": {
        "colab": {
          "base_uri": "https://localhost:8080/"
        },
        "id": "h2sma2ksmP_8",
        "outputId": "26cb36db-d2f4-4bab-80e7-a01eee52ee3b"
      },
      "source": [
        "lista[-1]"
      ],
      "execution_count": null,
      "outputs": [
        {
          "output_type": "execute_result",
          "data": {
            "text/plain": [
              "6.6"
            ]
          },
          "metadata": {
            "tags": []
          },
          "execution_count": 202
        }
      ]
    },
    {
      "cell_type": "markdown",
      "metadata": {
        "id": "kHbbe2iDmR0G"
      },
      "source": [
        "Si en vez de la última posición de la lista queremos la penúltima"
      ]
    },
    {
      "cell_type": "code",
      "metadata": {
        "colab": {
          "base_uri": "https://localhost:8080/"
        },
        "id": "xDL4tWFMmYuX",
        "outputId": "11f68f85-45a0-4bbc-fc5e-9f0df030666c"
      },
      "source": [
        "lista[-2]"
      ],
      "execution_count": null,
      "outputs": [
        {
          "output_type": "execute_result",
          "data": {
            "text/plain": [
              "5"
            ]
          },
          "metadata": {
            "tags": []
          },
          "execution_count": 203
        }
      ]
    },
    {
      "cell_type": "markdown",
      "metadata": {
        "id": "m24gbVJ2merm"
      },
      "source": [
        "Si solo queremos un rango de valores, por ejemplo, del segundo al quinto item accedemos mediante `[2:5]`"
      ]
    },
    {
      "cell_type": "code",
      "metadata": {
        "colab": {
          "base_uri": "https://localhost:8080/"
        },
        "id": "Je8SbgDunBG4",
        "outputId": "93c19dea-30ef-489b-8ca3-16805ce98f8f"
      },
      "source": [
        "lista[2:5]"
      ],
      "execution_count": null,
      "outputs": [
        {
          "output_type": "execute_result",
          "data": {
            "text/plain": [
              "[True, 5.3, 'item4']"
            ]
          },
          "metadata": {
            "tags": []
          },
          "execution_count": 204
        }
      ]
    },
    {
      "cell_type": "markdown",
      "metadata": {
        "id": "FicrnAvtnHho"
      },
      "source": [
        "Si se omite el primer número del rango singnifica que queremos desde el primer item de la lista hasta el item indicado, es decir, si queremos desde el primer item hasta el quinto usamos `[:5]`"
      ]
    },
    {
      "cell_type": "code",
      "metadata": {
        "colab": {
          "base_uri": "https://localhost:8080/"
        },
        "id": "2Uv5wEwnnjC9",
        "outputId": "c3cbcb5d-bb91-434f-a17d-3548d146f9f5"
      },
      "source": [
        "lista[:5]"
      ],
      "execution_count": null,
      "outputs": [
        {
          "output_type": "execute_result",
          "data": {
            "text/plain": [
              "['item0', 1, True, 5.3, 'item4']"
            ]
          },
          "metadata": {
            "tags": []
          },
          "execution_count": 205
        }
      ]
    },
    {
      "cell_type": "markdown",
      "metadata": {
        "id": "iJlDqRZ1n11B"
      },
      "source": [
        "Si se omite el último número del rango significa que queremos desde el item indicado hasta el último, es decir, si queremos desde el tercer item hasta el último usamos `[3:]`"
      ]
    },
    {
      "cell_type": "code",
      "metadata": {
        "colab": {
          "base_uri": "https://localhost:8080/"
        },
        "id": "yOpn_BbioCt8",
        "outputId": "6754b442-25a1-4455-d71b-0c8d46afacaa"
      },
      "source": [
        "lista[3:]"
      ],
      "execution_count": null,
      "outputs": [
        {
          "output_type": "execute_result",
          "data": {
            "text/plain": [
              "[5.3, 'item4', 5, 6.6]"
            ]
          },
          "metadata": {
            "tags": []
          },
          "execution_count": 206
        }
      ]
    },
    {
      "cell_type": "markdown",
      "metadata": {
        "id": "Qv6L4DZaoJf7"
      },
      "source": [
        "Podemos escoger el rango de items también con números negativos, es decir, si queremos desde el antepenúltimo hasta el penúltimo usamos `[-3:-1]`. Esto es útil cuando se tiene listas que no se sabe su longitud, pero se sabe que se quiere un rango de valores del final, porque por ejemplo, la lista se ha creado con medidas que se van tomando y se quiere saber las últimas medias"
      ]
    },
    {
      "cell_type": "code",
      "metadata": {
        "colab": {
          "base_uri": "https://localhost:8080/"
        },
        "id": "RL8Yzwxaop4F",
        "outputId": "14e94b6f-5e29-4efc-cb28-7a864265ca21"
      },
      "source": [
        "lista[-3:-1]"
      ],
      "execution_count": null,
      "outputs": [
        {
          "output_type": "execute_result",
          "data": {
            "text/plain": [
              "['item4', 5]"
            ]
          },
          "metadata": {
            "tags": []
          },
          "execution_count": 207
        }
      ]
    },
    {
      "cell_type": "markdown",
      "metadata": {
        "id": "DwqndK6WozL8"
      },
      "source": [
        "Se puede comprobar si un item está en la lista"
      ]
    },
    {
      "cell_type": "code",
      "metadata": {
        "colab": {
          "base_uri": "https://localhost:8080/"
        },
        "id": "sdxXc4nWo2HC",
        "outputId": "c4af4ecd-2661-4b88-e62f-4e33fda88338"
      },
      "source": [
        "'item4' in lista"
      ],
      "execution_count": null,
      "outputs": [
        {
          "output_type": "execute_result",
          "data": {
            "text/plain": [
              "True"
            ]
          },
          "metadata": {
            "tags": []
          },
          "execution_count": 208
        }
      ]
    },
    {
      "cell_type": "markdown",
      "metadata": {
        "id": "rmFFi1PmwR_m"
      },
      "source": [
        "##### 3.1.1. Editar listas"
      ]
    },
    {
      "cell_type": "markdown",
      "metadata": {
        "id": "A6EwS0BmpLEJ"
      },
      "source": [
        "Las listas en Python son dinámicas, es decir, se pueden modificar. Por ejemplo se puede modificar el tercer item"
      ]
    },
    {
      "cell_type": "code",
      "metadata": {
        "colab": {
          "base_uri": "https://localhost:8080/"
        },
        "id": "07mZv985pV7a",
        "outputId": "d9cc4ec6-7754-41e6-a8f5-2a9e5101a577"
      },
      "source": [
        "lista[2] = False\r\n",
        "lista"
      ],
      "execution_count": null,
      "outputs": [
        {
          "output_type": "execute_result",
          "data": {
            "text/plain": [
              "['item0', 1, False, 5.3, 'item4', 5, 6.6]"
            ]
          },
          "metadata": {
            "tags": []
          },
          "execution_count": 209
        }
      ]
    },
    {
      "cell_type": "markdown",
      "metadata": {
        "id": "fwWIBT-UpbLF"
      },
      "source": [
        "También se puede modificat un rango de valores"
      ]
    },
    {
      "cell_type": "code",
      "metadata": {
        "colab": {
          "base_uri": "https://localhost:8080/"
        },
        "id": "ai0JsxYhpdsz",
        "outputId": "9774183f-e77b-4268-affa-5edbc12e3bc2"
      },
      "source": [
        "lista[1:4] = [1.1, True, 3]\r\n",
        "lista"
      ],
      "execution_count": null,
      "outputs": [
        {
          "output_type": "execute_result",
          "data": {
            "text/plain": [
              "['item0', 1.1, True, 3, 'item4', 5, 6.6]"
            ]
          },
          "metadata": {
            "tags": []
          },
          "execution_count": 210
        }
      ]
    },
    {
      "cell_type": "markdown",
      "metadata": {
        "id": "yqTLPy23qLaC"
      },
      "source": [
        "Se pueden añadir valores al final de la lista mediante el método `append()`"
      ]
    },
    {
      "cell_type": "code",
      "metadata": {
        "colab": {
          "base_uri": "https://localhost:8080/"
        },
        "id": "6vGtvrCCqQ2N",
        "outputId": "879eb29d-11ba-4656-a899-7ab6ffc60a4c"
      },
      "source": [
        "lista.append('item7')\r\n",
        "lista"
      ],
      "execution_count": null,
      "outputs": [
        {
          "output_type": "execute_result",
          "data": {
            "text/plain": [
              "['item0', 1.1, True, 3, 'item4', 5, 6.6, 'item7']"
            ]
          },
          "metadata": {
            "tags": []
          },
          "execution_count": 211
        }
      ]
    },
    {
      "cell_type": "markdown",
      "metadata": {
        "id": "Pu11k_oDqefw"
      },
      "source": [
        "O podemos insertar un valor en una posición determinada mediante el método `insert()`"
      ]
    },
    {
      "cell_type": "code",
      "metadata": {
        "colab": {
          "base_uri": "https://localhost:8080/"
        },
        "id": "wUkYjsYVqich",
        "outputId": "2c1a67cb-b62c-4c1c-dc7b-b297244c0c58"
      },
      "source": [
        "lista.insert(2, 'insert')\r\n",
        "lista"
      ],
      "execution_count": null,
      "outputs": [
        {
          "output_type": "execute_result",
          "data": {
            "text/plain": [
              "['item0', 1.1, 'insert', True, 3, 'item4', 5, 6.6, 'item7']"
            ]
          },
          "metadata": {
            "tags": []
          },
          "execution_count": 212
        }
      ]
    },
    {
      "cell_type": "markdown",
      "metadata": {
        "id": "slAcylfVreP-"
      },
      "source": [
        "Se pueden unir listas mediante el método `extend()`"
      ]
    },
    {
      "cell_type": "code",
      "metadata": {
        "colab": {
          "base_uri": "https://localhost:8080/"
        },
        "id": "7w1qsnxYrsBG",
        "outputId": "1e7dc933-000c-4258-dab4-439c285bf7b2"
      },
      "source": [
        "lista2 = ['item8', 'item9']\r\n",
        "lista.extend(lista2)\r\n",
        "lista"
      ],
      "execution_count": null,
      "outputs": [
        {
          "output_type": "execute_result",
          "data": {
            "text/plain": [
              "['item0', 1.1, 'insert', True, 3, 'item4', 5, 6.6, 'item7', 'item8', 'item9']"
            ]
          },
          "metadata": {
            "tags": []
          },
          "execution_count": 213
        }
      ]
    },
    {
      "cell_type": "markdown",
      "metadata": {
        "id": "vxIzKaX9r_qB"
      },
      "source": [
        "No es necesario extender la lista mediante otra lista, se puede hacer mediante otro tipo de dato iterable de Python (`tuplas`, `sets`, `diccionarios`, etc)"
      ]
    },
    {
      "cell_type": "code",
      "metadata": {
        "colab": {
          "base_uri": "https://localhost:8080/"
        },
        "id": "3_11NXf-sR8v",
        "outputId": "dd343b94-38c3-43d3-dac1-0ebe567bf6aa"
      },
      "source": [
        "tupla = ('item10', 'item11')\r\n",
        "lista.extend(tupla)\r\n",
        "lista"
      ],
      "execution_count": null,
      "outputs": [
        {
          "output_type": "execute_result",
          "data": {
            "text/plain": [
              "['item0',\n",
              " 1.1,\n",
              " 'insert',\n",
              " True,\n",
              " 3,\n",
              " 'item4',\n",
              " 5,\n",
              " 6.6,\n",
              " 'item7',\n",
              " 'item8',\n",
              " 'item9',\n",
              " 'item10',\n",
              " 'item11']"
            ]
          },
          "metadata": {
            "tags": []
          },
          "execution_count": 214
        }
      ]
    },
    {
      "cell_type": "markdown",
      "metadata": {
        "id": "MXnxqtIxq7KO"
      },
      "source": [
        "Podemos eliminar una posición determinada mediante el método `pop()`"
      ]
    },
    {
      "cell_type": "code",
      "metadata": {
        "colab": {
          "base_uri": "https://localhost:8080/"
        },
        "id": "vHt6W_rxqwNv",
        "outputId": "1fe58dd5-39e7-4d6f-dd8a-4bb2bf87d54e"
      },
      "source": [
        "lista.pop(2)\r\n",
        "lista"
      ],
      "execution_count": null,
      "outputs": [
        {
          "output_type": "execute_result",
          "data": {
            "text/plain": [
              "['item0',\n",
              " 1.1,\n",
              " True,\n",
              " 3,\n",
              " 'item4',\n",
              " 5,\n",
              " 6.6,\n",
              " 'item7',\n",
              " 'item8',\n",
              " 'item9',\n",
              " 'item10',\n",
              " 'item11']"
            ]
          },
          "metadata": {
            "tags": []
          },
          "execution_count": 215
        }
      ]
    },
    {
      "cell_type": "markdown",
      "metadata": {
        "id": "hJpZP04rsyQw"
      },
      "source": [
        "Si no se especifica el indice se elimina el último item"
      ]
    },
    {
      "cell_type": "code",
      "metadata": {
        "colab": {
          "base_uri": "https://localhost:8080/"
        },
        "id": "LzWcQrgEs1uZ",
        "outputId": "5cb963a5-002d-423c-dc28-b3c59a0b7da1"
      },
      "source": [
        "lista.pop()\r\n",
        "lista"
      ],
      "execution_count": null,
      "outputs": [
        {
          "output_type": "execute_result",
          "data": {
            "text/plain": [
              "['item0', 1.1, True, 3, 'item4', 5, 6.6, 'item7', 'item8', 'item9', 'item10']"
            ]
          },
          "metadata": {
            "tags": []
          },
          "execution_count": 216
        }
      ]
    },
    {
      "cell_type": "markdown",
      "metadata": {
        "id": "5Gz70ufirLBh"
      },
      "source": [
        "O se puede eliminar un item sabiendo su valor mediante el método `remove()`"
      ]
    },
    {
      "cell_type": "code",
      "metadata": {
        "colab": {
          "base_uri": "https://localhost:8080/"
        },
        "id": "a46v--OjrRj9",
        "outputId": "066e1c11-8a95-4a57-a69f-d6244f70d655"
      },
      "source": [
        "lista.remove('item7')\r\n",
        "lista"
      ],
      "execution_count": null,
      "outputs": [
        {
          "output_type": "execute_result",
          "data": {
            "text/plain": [
              "['item0', 1.1, True, 3, 'item4', 5, 6.6, 'item8', 'item9', 'item10']"
            ]
          },
          "metadata": {
            "tags": []
          },
          "execution_count": 217
        }
      ]
    },
    {
      "cell_type": "markdown",
      "metadata": {
        "id": "gJfrodFIs-c9"
      },
      "source": [
        "Con la función `del()` se puede eliminar también un item de la posición indicada"
      ]
    },
    {
      "cell_type": "code",
      "metadata": {
        "colab": {
          "base_uri": "https://localhost:8080/"
        },
        "id": "FI4y3zA0tCaQ",
        "outputId": "02a05232-7e58-435d-d2c4-994c1b4d5e38"
      },
      "source": [
        "del lista[3]\r\n",
        "lista"
      ],
      "execution_count": null,
      "outputs": [
        {
          "output_type": "execute_result",
          "data": {
            "text/plain": [
              "['item0', 1.1, True, 'item4', 5, 6.6, 'item8', 'item9', 'item10']"
            ]
          },
          "metadata": {
            "tags": []
          },
          "execution_count": 218
        }
      ]
    },
    {
      "cell_type": "markdown",
      "metadata": {
        "id": "SYrleQU7teBZ"
      },
      "source": [
        "Si no se indica el índice se elimina la lista entera"
      ]
    },
    {
      "cell_type": "markdown",
      "metadata": {
        "id": "mKEnHnCutoEl"
      },
      "source": [
        "Con el método `clear()` deja la lista vacía"
      ]
    },
    {
      "cell_type": "code",
      "metadata": {
        "colab": {
          "base_uri": "https://localhost:8080/"
        },
        "id": "0nrsy6ottg0k",
        "outputId": "14aa9390-ad03-4b74-aee4-9b882701a95b"
      },
      "source": [
        "lista.clear()\r\n",
        "lista"
      ],
      "execution_count": null,
      "outputs": [
        {
          "output_type": "execute_result",
          "data": {
            "text/plain": [
              "[]"
            ]
          },
          "metadata": {
            "tags": []
          },
          "execution_count": 219
        }
      ]
    },
    {
      "cell_type": "markdown",
      "metadata": {
        "id": "69eaK3fO0XUO"
      },
      "source": [
        "Se puede obtener la cantidad de items con un valor determinado mediante el método `count()`"
      ]
    },
    {
      "cell_type": "code",
      "metadata": {
        "colab": {
          "base_uri": "https://localhost:8080/"
        },
        "id": "4dLnvUNv0dDK",
        "outputId": "2c6d6abb-449c-43ab-e83d-fd0e63eb9c7e"
      },
      "source": [
        "lista = [5, 4, 6, 5, 7, 8, 5, 3, 1, 5]\r\n",
        "lista.count(5)"
      ],
      "execution_count": null,
      "outputs": [
        {
          "output_type": "execute_result",
          "data": {
            "text/plain": [
              "4"
            ]
          },
          "metadata": {
            "tags": []
          },
          "execution_count": 220
        }
      ]
    },
    {
      "cell_type": "markdown",
      "metadata": {
        "id": "tvTH6h8o0nTD"
      },
      "source": [
        "También se puede obtener el primer índice de un item con un valor determinado mediante el método `index()`"
      ]
    },
    {
      "cell_type": "code",
      "metadata": {
        "colab": {
          "base_uri": "https://localhost:8080/"
        },
        "id": "Tc8fsplo0xTt",
        "outputId": "d8f4babb-cb50-4c1d-ba8a-a4918141f59b"
      },
      "source": [
        "lista = [5, 4, 6, 5, 7, 8, 5, 3, 1, 5]\r\n",
        "lista.index(5)"
      ],
      "execution_count": null,
      "outputs": [
        {
          "output_type": "execute_result",
          "data": {
            "text/plain": [
              "0"
            ]
          },
          "metadata": {
            "tags": []
          },
          "execution_count": 221
        }
      ]
    },
    {
      "cell_type": "markdown",
      "metadata": {
        "id": "9Y9ww24cvCBf"
      },
      "source": [
        "##### 3.1.2. List comprehension"
      ]
    },
    {
      "cell_type": "markdown",
      "metadata": {
        "id": "XYGuxlyauGKn"
      },
      "source": [
        "Podemos operar a través de la lista"
      ]
    },
    {
      "cell_type": "code",
      "metadata": {
        "colab": {
          "base_uri": "https://localhost:8080/"
        },
        "id": "8Vusy8Q8uIu4",
        "outputId": "55c79004-fea5-4a75-fd00-7ab0dec74533"
      },
      "source": [
        "fruits = [\"apple\", \"banana\", \"cherry\", \"kiwi\", \"mango\"]\r\n",
        "newlist = []\r\n",
        "\r\n",
        "# Iteramos por todos los items de la lista\r\n",
        "for x in fruits:\r\n",
        "  # Si el item contiene el caracter \"a\" lo añadimos a newlist\r\n",
        "  if \"a\" in x:\r\n",
        "    newlist.append(x)\r\n",
        "\r\n",
        "newlist"
      ],
      "execution_count": null,
      "outputs": [
        {
          "output_type": "execute_result",
          "data": {
            "text/plain": [
              "['apple', 'banana', 'mango']"
            ]
          },
          "metadata": {
            "tags": []
          },
          "execution_count": 222
        }
      ]
    },
    {
      "cell_type": "markdown",
      "metadata": {
        "id": "st7Gf7tcuWuV"
      },
      "source": [
        "Otras de las cosas potentes de Python son las `list comprehension`, que permiten hacer todo en una sola linea y que el código quede más compacto"
      ]
    },
    {
      "cell_type": "code",
      "metadata": {
        "colab": {
          "base_uri": "https://localhost:8080/"
        },
        "id": "VgVji268unGi",
        "outputId": "b716ba4c-5166-4d34-b438-129a6ddb452d"
      },
      "source": [
        "fruits = [\"apple\", \"banana\", \"cherry\", \"kiwi\", \"mango\"]\r\n",
        "\r\n",
        "newlist = [x for x in fruits if \"a\" in x]\r\n",
        "\r\n",
        "newlist"
      ],
      "execution_count": null,
      "outputs": [
        {
          "output_type": "execute_result",
          "data": {
            "text/plain": [
              "['apple', 'banana', 'mango']"
            ]
          },
          "metadata": {
            "tags": []
          },
          "execution_count": 223
        }
      ]
    },
    {
      "cell_type": "markdown",
      "metadata": {
        "id": "NfQ7-lUHvHmV"
      },
      "source": [
        "La sintaxis es la siguiente\r\n",
        "\r\n",
        "\r\n",
        "\r\n",
        "```\r\n",
        "newlist = [expression for item in iterable if condition == True]\r\n",
        "```"
      ]
    },
    {
      "cell_type": "markdown",
      "metadata": {
        "id": "NwaIhuchvvCQ"
      },
      "source": [
        "Se puede aprovechar para realizar operaciones en la lista original"
      ]
    },
    {
      "cell_type": "code",
      "metadata": {
        "colab": {
          "base_uri": "https://localhost:8080/"
        },
        "id": "7_s-N-udvzJE",
        "outputId": "463736cf-1d02-41b3-b1cf-efc5844213d9"
      },
      "source": [
        "newlist = [x.upper() for x in fruits if \"a\" in x]\r\n",
        "newlist"
      ],
      "execution_count": null,
      "outputs": [
        {
          "output_type": "execute_result",
          "data": {
            "text/plain": [
              "['APPLE', 'BANANA', 'MANGO']"
            ]
          },
          "metadata": {
            "tags": []
          },
          "execution_count": 224
        }
      ]
    },
    {
      "cell_type": "markdown",
      "metadata": {
        "id": "yDwfakdFwdQA"
      },
      "source": [
        "##### 3.1.3. Ordenar listas"
      ]
    },
    {
      "cell_type": "markdown",
      "metadata": {
        "id": "Yb1QHcWQwlwr"
      },
      "source": [
        "Para ordenar listas usamos el método `sort()`"
      ]
    },
    {
      "cell_type": "code",
      "metadata": {
        "colab": {
          "base_uri": "https://localhost:8080/"
        },
        "id": "u-foDLaEwf7g",
        "outputId": "b3ad8e8d-0095-4bfc-c588-1be6d4bf6221"
      },
      "source": [
        "lista = [5, 8, 3, 4, 9, 5, 6]\r\n",
        "lista.sort()\r\n",
        "lista"
      ],
      "execution_count": null,
      "outputs": [
        {
          "output_type": "execute_result",
          "data": {
            "text/plain": [
              "[3, 4, 5, 5, 6, 8, 9]"
            ]
          },
          "metadata": {
            "tags": []
          },
          "execution_count": 225
        }
      ]
    },
    {
      "cell_type": "markdown",
      "metadata": {
        "id": "kJ5tCKMwwzpD"
      },
      "source": [
        "También nos las ordena allfabéticamente"
      ]
    },
    {
      "cell_type": "code",
      "metadata": {
        "colab": {
          "base_uri": "https://localhost:8080/"
        },
        "id": "afHkUxZvw2qg",
        "outputId": "a5dd7e78-cfba-4335-9e2a-c7d4a63746f1"
      },
      "source": [
        "lista = [\"orange\", \"mango\", \"kiwi\", \"pineapple\", \"banana\"]\r\n",
        "lista.sort()\r\n",
        "lista"
      ],
      "execution_count": null,
      "outputs": [
        {
          "output_type": "execute_result",
          "data": {
            "text/plain": [
              "['banana', 'kiwi', 'mango', 'orange', 'pineapple']"
            ]
          },
          "metadata": {
            "tags": []
          },
          "execution_count": 226
        }
      ]
    },
    {
      "cell_type": "markdown",
      "metadata": {
        "id": "FvO8fyMkxyYU"
      },
      "source": [
        "A la hora de ordenar alfabéticamente distingue entre mayúsculas y minúsculas"
      ]
    },
    {
      "cell_type": "code",
      "metadata": {
        "colab": {
          "base_uri": "https://localhost:8080/"
        },
        "id": "Tip-pb1_x7gm",
        "outputId": "6782ff27-3ef9-4338-a796-a84e8291db17"
      },
      "source": [
        "lista = [\"orange\", \"mango\", \"kiwi\", \"Pineapple\", \"banana\"]\r\n",
        "lista.sort()\r\n",
        "lista"
      ],
      "execution_count": null,
      "outputs": [
        {
          "output_type": "execute_result",
          "data": {
            "text/plain": [
              "['Pineapple', 'banana', 'kiwi', 'mango', 'orange']"
            ]
          },
          "metadata": {
            "tags": []
          },
          "execution_count": 227
        }
      ]
    },
    {
      "cell_type": "markdown",
      "metadata": {
        "id": "PVZ6G2dkw--J"
      },
      "source": [
        "Se pueden ordenar en orden descendente mediante el atributo `reverse = True`"
      ]
    },
    {
      "cell_type": "code",
      "metadata": {
        "colab": {
          "base_uri": "https://localhost:8080/"
        },
        "id": "qsIvBTvCxHHJ",
        "outputId": "20feff26-c8f7-4707-a9b8-c78e7625f70b"
      },
      "source": [
        "lista = [5, 8, 3, 4, 9, 5, 6]\r\n",
        "lista.sort(reverse = True)\r\n",
        "lista"
      ],
      "execution_count": null,
      "outputs": [
        {
          "output_type": "execute_result",
          "data": {
            "text/plain": [
              "[9, 8, 6, 5, 5, 4, 3]"
            ]
          },
          "metadata": {
            "tags": []
          },
          "execution_count": 228
        }
      ]
    },
    {
      "cell_type": "markdown",
      "metadata": {
        "id": "K4T4Pq8PxYZb"
      },
      "source": [
        "Se pueden ordenar de la manera que queramos mediante el atributo `key`"
      ]
    },
    {
      "cell_type": "code",
      "metadata": {
        "colab": {
          "base_uri": "https://localhost:8080/"
        },
        "id": "sBVgRAJyxdQw",
        "outputId": "ba8e968d-c79c-4515-8dea-f8f62459f49d"
      },
      "source": [
        "def myfunc(n):\r\n",
        "  # devuelve el valor absoluto de n - 50\r\n",
        "  return abs(n - 50)\r\n",
        "\r\n",
        "lista = [100, 50, 65, 82, 23]\r\n",
        "lista.sort(key = myfunc)\r\n",
        "lista"
      ],
      "execution_count": null,
      "outputs": [
        {
          "output_type": "execute_result",
          "data": {
            "text/plain": [
              "[50, 65, 23, 82, 100]"
            ]
          },
          "metadata": {
            "tags": []
          },
          "execution_count": 229
        }
      ]
    },
    {
      "cell_type": "markdown",
      "metadata": {
        "id": "1INxbo9lyTQg"
      },
      "source": [
        "Se puede aprovechar esto para que por ejemplo, a la hora de ordenar no distinga entre mayúsculas y minúsculas"
      ]
    },
    {
      "cell_type": "code",
      "metadata": {
        "colab": {
          "base_uri": "https://localhost:8080/"
        },
        "id": "zuT-4vmbyMlz",
        "outputId": "35d5471e-18ed-402f-c6fb-a49f47077558"
      },
      "source": [
        "lista = [\"orange\", \"mango\", \"kiwi\", \"Pineapple\", \"banana\"]\r\n",
        "lista.sort(key = str.lower)\r\n",
        "lista"
      ],
      "execution_count": null,
      "outputs": [
        {
          "output_type": "execute_result",
          "data": {
            "text/plain": [
              "['banana', 'kiwi', 'mango', 'orange', 'Pineapple']"
            ]
          },
          "metadata": {
            "tags": []
          },
          "execution_count": 230
        }
      ]
    },
    {
      "cell_type": "markdown",
      "metadata": {
        "id": "TYoVrsAvymLz"
      },
      "source": [
        "Se puede voltear la lista mediante el método `reverse`"
      ]
    },
    {
      "cell_type": "code",
      "metadata": {
        "colab": {
          "base_uri": "https://localhost:8080/"
        },
        "id": "YXvHChW3ypJT",
        "outputId": "50db49be-140f-4ac3-b40c-3ada294b33d8"
      },
      "source": [
        "lista = [5, 8, 3, 4, 9, 5, 6]\r\n",
        "lista.reverse()\r\n",
        "lista"
      ],
      "execution_count": null,
      "outputs": [
        {
          "output_type": "execute_result",
          "data": {
            "text/plain": [
              "[6, 5, 9, 4, 3, 8, 5]"
            ]
          },
          "metadata": {
            "tags": []
          },
          "execution_count": 231
        }
      ]
    },
    {
      "cell_type": "markdown",
      "metadata": {
        "id": "xMpopupvyyHz"
      },
      "source": [
        "##### 3.1.4. Copiar listas"
      ]
    },
    {
      "cell_type": "markdown",
      "metadata": {
        "id": "26XTiSqWy2F-"
      },
      "source": [
        "No se pueden copiar listas mediante `lista1 = lista2`, ya que si se modifica `lista1` también se modifica `lista2`"
      ]
    },
    {
      "cell_type": "code",
      "metadata": {
        "colab": {
          "base_uri": "https://localhost:8080/"
        },
        "id": "gdx_ODYHy0Xr",
        "outputId": "61b6b8de-36aa-4423-a4bc-782eb2e99d0f"
      },
      "source": [
        "lista1 = [5, 8, 3, 4, 9, 5, 6]\r\n",
        "lista2 = lista1\r\n",
        "lista1[0] = True\r\n",
        "lista2"
      ],
      "execution_count": null,
      "outputs": [
        {
          "output_type": "execute_result",
          "data": {
            "text/plain": [
              "[True, 8, 3, 4, 9, 5, 6]"
            ]
          },
          "metadata": {
            "tags": []
          },
          "execution_count": 232
        }
      ]
    },
    {
      "cell_type": "markdown",
      "metadata": {
        "id": "ulafjLL-zIEn"
      },
      "source": [
        "Por lo que hay que usar el método `copy()`"
      ]
    },
    {
      "cell_type": "code",
      "metadata": {
        "colab": {
          "base_uri": "https://localhost:8080/"
        },
        "id": "qFq_IpIxzL8M",
        "outputId": "7eae0134-b49a-4df0-ce3b-26d06ec8e832"
      },
      "source": [
        "lista1 = [5, 8, 3, 4, 9, 5, 6]\r\n",
        "lista2 = lista1.copy()\r\n",
        "lista1[0] = True\r\n",
        "lista2"
      ],
      "execution_count": null,
      "outputs": [
        {
          "output_type": "execute_result",
          "data": {
            "text/plain": [
              "[5, 8, 3, 4, 9, 5, 6]"
            ]
          },
          "metadata": {
            "tags": []
          },
          "execution_count": 233
        }
      ]
    },
    {
      "cell_type": "markdown",
      "metadata": {
        "id": "TP9idoR3zVp9"
      },
      "source": [
        "O hay que usar el constructor de listas `list()`"
      ]
    },
    {
      "cell_type": "code",
      "metadata": {
        "colab": {
          "base_uri": "https://localhost:8080/"
        },
        "id": "2v7jo9ZhzboA",
        "outputId": "b11b01ea-f3cb-432b-86cd-9d6403fdfd59"
      },
      "source": [
        "lista1 = [5, 8, 3, 4, 9, 5, 6]\r\n",
        "lista2 = list(lista1)\r\n",
        "lista1[0] = True\r\n",
        "lista2"
      ],
      "execution_count": null,
      "outputs": [
        {
          "output_type": "execute_result",
          "data": {
            "text/plain": [
              "[5, 8, 3, 4, 9, 5, 6]"
            ]
          },
          "metadata": {
            "tags": []
          },
          "execution_count": 234
        }
      ]
    },
    {
      "cell_type": "markdown",
      "metadata": {
        "id": "ErANBt7hzrHW"
      },
      "source": [
        "##### 3.1.5. Concatenar listas"
      ]
    },
    {
      "cell_type": "markdown",
      "metadata": {
        "id": "fyggNBi4z2m6"
      },
      "source": [
        "Se pueden concatenar listas mediante el operador `+`"
      ]
    },
    {
      "cell_type": "code",
      "metadata": {
        "colab": {
          "base_uri": "https://localhost:8080/"
        },
        "id": "HhVssepOz1JE",
        "outputId": "cc5f029b-dca9-439a-d0c2-a26cd8894bde"
      },
      "source": [
        "lista1 = [5, 8, 3, 4, 9, 5, 6]\r\n",
        "lista2 = ['a', 'b', 'c']\r\n",
        "lista = lista1 + lista2\r\n",
        "lista"
      ],
      "execution_count": null,
      "outputs": [
        {
          "output_type": "execute_result",
          "data": {
            "text/plain": [
              "[5, 8, 3, 4, 9, 5, 6, 'a', 'b', 'c']"
            ]
          },
          "metadata": {
            "tags": []
          },
          "execution_count": 235
        }
      ]
    },
    {
      "cell_type": "markdown",
      "metadata": {
        "id": "5FBih5U7z-0S"
      },
      "source": [
        "O mediante el método extend"
      ]
    },
    {
      "cell_type": "code",
      "metadata": {
        "colab": {
          "base_uri": "https://localhost:8080/"
        },
        "id": "cEzt_OWH0C5B",
        "outputId": "46b28907-75da-42e0-eeff-09073c39a31e"
      },
      "source": [
        "lista1 = [5, 8, 3, 4, 9, 5, 6]\r\n",
        "lista2 = ['a', 'b', 'c']\r\n",
        "lista1.extend(lista2)\r\n",
        "lista1"
      ],
      "execution_count": null,
      "outputs": [
        {
          "output_type": "execute_result",
          "data": {
            "text/plain": [
              "[5, 8, 3, 4, 9, 5, 6, 'a', 'b', 'c']"
            ]
          },
          "metadata": {
            "tags": []
          },
          "execution_count": 236
        }
      ]
    },
    {
      "cell_type": "markdown",
      "metadata": {
        "id": "b-7yeNR0pGMY"
      },
      "source": [
        "Otra forma de concatenar es repetir la tupla X veces mediante el operador `*`"
      ]
    },
    {
      "cell_type": "code",
      "metadata": {
        "colab": {
          "base_uri": "https://localhost:8080/"
        },
        "id": "Bw8mA-tCo_ki",
        "outputId": "9baf71b3-108f-41e8-8432-da4994802570"
      },
      "source": [
        "lista1 = ['a', 'b', 'c']\r\n",
        "lista2 = lista1 * 3\r\n",
        "lista2"
      ],
      "execution_count": null,
      "outputs": [
        {
          "output_type": "execute_result",
          "data": {
            "text/plain": [
              "['a', 'b', 'c', 'a', 'b', 'c', 'a', 'b', 'c']"
            ]
          },
          "metadata": {
            "tags": []
          },
          "execution_count": 23
        }
      ]
    },
    {
      "cell_type": "markdown",
      "metadata": {
        "id": "CSfyJTznZ0CH"
      },
      "source": [
        "#### 3.2. Tuplas"
      ]
    },
    {
      "cell_type": "markdown",
      "metadata": {
        "id": "YR3EWNJWlDb1"
      },
      "source": [
        "Las tuplas son similares a las listas, guardan múltiples items en una variable, pueden contener items de distintos tipos, pero no s epueden modificar, ni reordenar. Se definen mediante `()`, con los items separados por comas\r\n",
        "\r\n",
        "Al no poderse modificar hace que las tuplas se ejecuten un poco más rápido que las listas, por lo que si no necesitas modificar los datos es mejor utilizar tuplas en vez de listas\r\n"
      ]
    },
    {
      "cell_type": "code",
      "metadata": {
        "colab": {
          "base_uri": "https://localhost:8080/"
        },
        "id": "P1wqKH70lZsq",
        "outputId": "ec218c94-81e5-43c1-87ec-b8577eb7a4fe"
      },
      "source": [
        "tupla = ('item0', 1, True, 3.3, 'item4', True)\r\n",
        "tupla"
      ],
      "execution_count": null,
      "outputs": [
        {
          "output_type": "execute_result",
          "data": {
            "text/plain": [
              "('item0', 1, True, 3.3, 'item4', True)"
            ]
          },
          "metadata": {
            "tags": []
          },
          "execution_count": 15
        }
      ]
    },
    {
      "cell_type": "markdown",
      "metadata": {
        "id": "J6tnK2TIllRy"
      },
      "source": [
        "Se puede obtener su longitud mediante la función `len()`"
      ]
    },
    {
      "cell_type": "code",
      "metadata": {
        "colab": {
          "base_uri": "https://localhost:8080/"
        },
        "id": "IUM8fjtRlw3c",
        "outputId": "1ed30214-4a4d-40b3-a4ea-83aee67eaf90"
      },
      "source": [
        "len (tupla)"
      ],
      "execution_count": null,
      "outputs": [
        {
          "output_type": "execute_result",
          "data": {
            "text/plain": [
              "6"
            ]
          },
          "metadata": {
            "tags": []
          },
          "execution_count": 3
        }
      ]
    },
    {
      "cell_type": "markdown",
      "metadata": {
        "id": "ziE-guzJmA5P"
      },
      "source": [
        "Para crear tuplas con un único elemento es necesario añadir una coma"
      ]
    },
    {
      "cell_type": "code",
      "metadata": {
        "colab": {
          "base_uri": "https://localhost:8080/"
        },
        "id": "P8D2MoXxmEtt",
        "outputId": "fb3c01a8-675f-462f-c7cd-d1810ab75b31"
      },
      "source": [
        "tupla = ('item0',)\r\n",
        "tupla, type(tupla)"
      ],
      "execution_count": null,
      "outputs": [
        {
          "output_type": "execute_result",
          "data": {
            "text/plain": [
              "(('item0',), tuple)"
            ]
          },
          "metadata": {
            "tags": []
          },
          "execution_count": 5
        }
      ]
    },
    {
      "cell_type": "markdown",
      "metadata": {
        "id": "IVJxppEnmRBp"
      },
      "source": [
        "Para acceder a un elemento de la tupla se procede igual que con las listas"
      ]
    },
    {
      "cell_type": "code",
      "metadata": {
        "colab": {
          "base_uri": "https://localhost:8080/"
        },
        "id": "-r6XPDDbmV2r",
        "outputId": "d303c9d6-c7ee-4796-9579-9ab645ec62ef"
      },
      "source": [
        "tupla = ('item0', 1, True, 3.3, 'item4', True)\r\n",
        "print(tupla[0])\r\n",
        "print(tupla[-1])\r\n",
        "print(tupla[2:4])\r\n",
        "print(tupla[-4:-2])"
      ],
      "execution_count": null,
      "outputs": [
        {
          "output_type": "stream",
          "text": [
            "item0\n",
            "True\n",
            "(True, 3.3)\n",
            "(True, 3.3)\n"
          ],
          "name": "stdout"
        }
      ]
    },
    {
      "cell_type": "markdown",
      "metadata": {
        "id": "Dx-O1LdtmmVq"
      },
      "source": [
        "Podemos comprobar si hay un item en la tupla"
      ]
    },
    {
      "cell_type": "code",
      "metadata": {
        "colab": {
          "base_uri": "https://localhost:8080/"
        },
        "id": "wjnwZRqgmlc3",
        "outputId": "3354fe50-7290-43f6-9938-33c4b23df782"
      },
      "source": [
        "'item4' in tupla"
      ],
      "execution_count": null,
      "outputs": [
        {
          "output_type": "execute_result",
          "data": {
            "text/plain": [
              "True"
            ]
          },
          "metadata": {
            "tags": []
          },
          "execution_count": 8
        }
      ]
    },
    {
      "cell_type": "markdown",
      "metadata": {
        "id": "DQJ6GbAfmw4T"
      },
      "source": [
        "##### 3.2.1. Modificar tuplas"
      ]
    },
    {
      "cell_type": "markdown",
      "metadata": {
        "id": "cTaXy4yHm0-z"
      },
      "source": [
        "Aunque las tuplas no son modificables, se pueden modificar conviertiéndolas a listas, modificando la lista y después volviéndola a convertir a tupla"
      ]
    },
    {
      "cell_type": "code",
      "metadata": {
        "colab": {
          "base_uri": "https://localhost:8080/"
        },
        "id": "bia1D3g4m-dg",
        "outputId": "02cc8be0-8e99-4352-ea9e-c68264fcdb8f"
      },
      "source": [
        "lista = list(tupla)\r\n",
        "lista[4] = 'ITEM4'\r\n",
        "tupla = tuple(lista)\r\n",
        "tupla"
      ],
      "execution_count": null,
      "outputs": [
        {
          "output_type": "execute_result",
          "data": {
            "text/plain": [
              "('item0', 1, True, 3.3, 'ITEM4', True)"
            ]
          },
          "metadata": {
            "tags": []
          },
          "execution_count": 13
        }
      ]
    },
    {
      "cell_type": "markdown",
      "metadata": {
        "id": "_RMuRT01nQb8"
      },
      "source": [
        "Al convertirla a lista podemos hacer todas las modificaciones vistas en las listas"
      ]
    },
    {
      "cell_type": "markdown",
      "metadata": {
        "id": "4Nf7YNaCnXJ0"
      },
      "source": [
        "Lo que sí se puede es eliminar la tupla entera"
      ]
    },
    {
      "cell_type": "code",
      "metadata": {
        "id": "9EWvKYHindM2",
        "colab": {
          "base_uri": "https://localhost:8080/"
        },
        "outputId": "84db500e-c2db-4c0a-95f1-26e6ca0d9c17"
      },
      "source": [
        "del tupla\r\n",
        "\r\n",
        "if 'tupla' not in locals():\r\n",
        "  print(\"tupla eliminada\")"
      ],
      "execution_count": null,
      "outputs": [
        {
          "output_type": "stream",
          "text": [
            "tupla eliminada\n"
          ],
          "name": "stdout"
        }
      ]
    },
    {
      "cell_type": "markdown",
      "metadata": {
        "id": "KX3DK6uBnv9M"
      },
      "source": [
        "##### 3.2.2. Desempaquetar tuplas"
      ]
    },
    {
      "cell_type": "markdown",
      "metadata": {
        "id": "-rL8Rq9onzlI"
      },
      "source": [
        "Cuando creamos tuplas, en realidad estamos empaquetando datos"
      ]
    },
    {
      "cell_type": "code",
      "metadata": {
        "colab": {
          "base_uri": "https://localhost:8080/"
        },
        "id": "u2QdA2XWn2vL",
        "outputId": "822d3841-a4de-4df6-98e4-806c2c90e14c"
      },
      "source": [
        "tupla = ('item0', 1, True, 3.3, 'item4', True)\r\n",
        "tupla"
      ],
      "execution_count": null,
      "outputs": [
        {
          "output_type": "execute_result",
          "data": {
            "text/plain": [
              "('item0', 1, True, 3.3, 'item4', True)"
            ]
          },
          "metadata": {
            "tags": []
          },
          "execution_count": 16
        }
      ]
    },
    {
      "cell_type": "markdown",
      "metadata": {
        "id": "VlZq42F3n4Nj"
      },
      "source": [
        "pero podemos desempaquetarlos"
      ]
    },
    {
      "cell_type": "code",
      "metadata": {
        "colab": {
          "base_uri": "https://localhost:8080/"
        },
        "id": "c9L-3UzEn6Lq",
        "outputId": "3dc6ffb9-0fcc-405d-fbae-b8e2ba366456"
      },
      "source": [
        "item0, item1, item2, item3, item4, item5 = tupla\r\n",
        "item0, item1, item2, item3, item4, item5"
      ],
      "execution_count": null,
      "outputs": [
        {
          "output_type": "execute_result",
          "data": {
            "text/plain": [
              "('item0', 1, True, 3.3, 'item4', True)"
            ]
          },
          "metadata": {
            "tags": []
          },
          "execution_count": 17
        }
      ]
    },
    {
      "cell_type": "markdown",
      "metadata": {
        "id": "TOvxFVCEoH_h"
      },
      "source": [
        "Si queremos sacar menos datos que la longitud de la tupla añadimos un `*`"
      ]
    },
    {
      "cell_type": "code",
      "metadata": {
        "colab": {
          "base_uri": "https://localhost:8080/"
        },
        "id": "VW-mkzrsoNcM",
        "outputId": "5d3c1fda-900a-41b9-9681-271b68830fce"
      },
      "source": [
        "item0, item1, item2, *item3 = tupla\r\n",
        "item0, item1, item2, item3"
      ],
      "execution_count": null,
      "outputs": [
        {
          "output_type": "execute_result",
          "data": {
            "text/plain": [
              "('item0', 1, True, [3.3, 'item4', True])"
            ]
          },
          "metadata": {
            "tags": []
          },
          "execution_count": 18
        }
      ]
    },
    {
      "cell_type": "markdown",
      "metadata": {
        "id": "ohn5KT29oTNV"
      },
      "source": [
        "Se puede poner el asterisco `*` en otra parte si por ejemplo lo que queremos es el último item"
      ]
    },
    {
      "cell_type": "code",
      "metadata": {
        "colab": {
          "base_uri": "https://localhost:8080/"
        },
        "id": "LNMvv0EHoaOL",
        "outputId": "042e6c1a-38e6-4033-cb89-329902480a6c"
      },
      "source": [
        "item0, item1, *item2, item5 = tupla\r\n",
        "item0, item1, item2, item5"
      ],
      "execution_count": null,
      "outputs": [
        {
          "output_type": "execute_result",
          "data": {
            "text/plain": [
              "('item0', 1, [True, 3.3, 'item4'], True)"
            ]
          },
          "metadata": {
            "tags": []
          },
          "execution_count": 19
        }
      ]
    },
    {
      "cell_type": "markdown",
      "metadata": {
        "id": "7hrifCXuokvu"
      },
      "source": [
        "##### 3.2.3. Concatenar tuplas"
      ]
    },
    {
      "cell_type": "markdown",
      "metadata": {
        "id": "rR1hpBPUonNw"
      },
      "source": [
        "Se pueden concatenar tuplas mediante el operador `+`"
      ]
    },
    {
      "cell_type": "code",
      "metadata": {
        "colab": {
          "base_uri": "https://localhost:8080/"
        },
        "id": "M_ANplzIoq55",
        "outputId": "4e8be639-2c90-48c6-a075-87bdcf120e97"
      },
      "source": [
        "tupla1 = (\"a\", \"b\" , \"c\")\r\n",
        "tupla2 = (1, 2, 3)\r\n",
        "\r\n",
        "tupla3 = tupla1 + tupla2\r\n",
        "tupla3"
      ],
      "execution_count": null,
      "outputs": [
        {
          "output_type": "execute_result",
          "data": {
            "text/plain": [
              "('a', 'b', 'c', 1, 2, 3)"
            ]
          },
          "metadata": {
            "tags": []
          },
          "execution_count": 21
        }
      ]
    },
    {
      "cell_type": "markdown",
      "metadata": {
        "id": "mH6qPpjioy9B"
      },
      "source": [
        "Otra forma de concatenar es repetir la tupla X veces mediante el operador `*`"
      ]
    },
    {
      "cell_type": "code",
      "metadata": {
        "colab": {
          "base_uri": "https://localhost:8080/"
        },
        "id": "1wwlDtZjo525",
        "outputId": "ab9b6874-0e17-4a9c-f4c9-cf9a0669aec1"
      },
      "source": [
        "tupla1 = (\"a\", \"b\" , \"c\")\r\n",
        "\r\n",
        "tupla2 = tupla1 * 3\r\n",
        "tupla2"
      ],
      "execution_count": null,
      "outputs": [
        {
          "output_type": "execute_result",
          "data": {
            "text/plain": [
              "('a', 'b', 'c', 'a', 'b', 'c', 'a', 'b', 'c')"
            ]
          },
          "metadata": {
            "tags": []
          },
          "execution_count": 22
        }
      ]
    },
    {
      "cell_type": "markdown",
      "metadata": {
        "id": "iQfJ3yyhpSg_"
      },
      "source": [
        "##### 3.2.4. Métodos de las tuplas"
      ]
    },
    {
      "cell_type": "markdown",
      "metadata": {
        "id": "ntsQN8cnpVoU"
      },
      "source": [
        "Las tuplas tienen dos métodos, el primero es el método `count()` que devuelve el número de veces que existe un item dentro de la tupla"
      ]
    },
    {
      "cell_type": "code",
      "metadata": {
        "colab": {
          "base_uri": "https://localhost:8080/"
        },
        "id": "rzuyKRNnpmCz",
        "outputId": "4bcaef64-0e0f-4c8a-f2a0-2290f67780ac"
      },
      "source": [
        "tupla = (5, 4, 6, 5, 7, 8, 5, 3, 1, 5)\r\n",
        "tupla.count(5)"
      ],
      "execution_count": null,
      "outputs": [
        {
          "output_type": "execute_result",
          "data": {
            "text/plain": [
              "4"
            ]
          },
          "metadata": {
            "tags": []
          },
          "execution_count": 25
        }
      ]
    },
    {
      "cell_type": "markdown",
      "metadata": {
        "id": "oWpMN6KVp48j"
      },
      "source": [
        "Otro método es `index()` que devuelve la primera posición de un item dentro de la tupla"
      ]
    },
    {
      "cell_type": "code",
      "metadata": {
        "id": "uaa3sapHqAqk",
        "colab": {
          "base_uri": "https://localhost:8080/"
        },
        "outputId": "c5e8a849-591b-492a-aa1e-585b3df057ae"
      },
      "source": [
        "tupla = (5, 4, 6, 5, 7, 8, 5, 3, 1, 5)\r\n",
        "tupla.index(5)"
      ],
      "execution_count": null,
      "outputs": [
        {
          "output_type": "execute_result",
          "data": {
            "text/plain": [
              "0"
            ]
          },
          "metadata": {
            "tags": []
          },
          "execution_count": 26
        }
      ]
    },
    {
      "cell_type": "markdown",
      "metadata": {
        "id": "1XrLXL9pZ3eJ"
      },
      "source": [
        "#### 3.3. Range"
      ]
    },
    {
      "cell_type": "markdown",
      "metadata": {
        "id": "Z1JpkK1hTSt0"
      },
      "source": [
        "Con `range()` podemos crear una secuencia de números, comenzando desde 0 (de forma predeterminada), se incrementa en 1 (de forma predeterminada) y se detiene antes de un número especificado\r\n",
        "\r\n",
        "\r\n",
        "\r\n",
        "```\r\n",
        "range(start, stop, step)\r\n",
        "```\r\n",
        "\r\n"
      ]
    },
    {
      "cell_type": "markdown",
      "metadata": {
        "id": "G-5_hClmThfT"
      },
      "source": [
        "Por ejemplo si queremos una secuencia de 0 a 5 (sin incluir el 5)"
      ]
    },
    {
      "cell_type": "code",
      "metadata": {
        "colab": {
          "base_uri": "https://localhost:8080/"
        },
        "id": "kpC_SuE0ToYo",
        "outputId": "83443abc-2777-4718-e53f-91fa469f1aa1"
      },
      "source": [
        "for i in range(5):\r\n",
        "  print(f'{i} ', end='')"
      ],
      "execution_count": null,
      "outputs": [
        {
          "output_type": "stream",
          "text": [
            "0 1 2 3 4 "
          ],
          "name": "stdout"
        }
      ]
    },
    {
      "cell_type": "markdown",
      "metadata": {
        "id": "19tL-BCnT7J2"
      },
      "source": [
        "Si por ejemplo no queremos que empiece en 0"
      ]
    },
    {
      "cell_type": "code",
      "metadata": {
        "colab": {
          "base_uri": "https://localhost:8080/"
        },
        "id": "iZ3x9fiuT9xp",
        "outputId": "f26ee64d-ba99-4fe8-cff0-62fe1105dfd8"
      },
      "source": [
        "for i in range(2, 5):\r\n",
        "  print(f'{i} ', end='')"
      ],
      "execution_count": null,
      "outputs": [
        {
          "output_type": "stream",
          "text": [
            "2 3 4 "
          ],
          "name": "stdout"
        }
      ]
    },
    {
      "cell_type": "code",
      "metadata": {
        "colab": {
          "base_uri": "https://localhost:8080/"
        },
        "id": "uUhb_Mw6UC0i",
        "outputId": "05d8d1bd-0228-4fda-8a86-19e7ac2c4132"
      },
      "source": [
        "for i in range(-2, 5):\r\n",
        "  print(f'{i} ', end='')"
      ],
      "execution_count": null,
      "outputs": [
        {
          "output_type": "stream",
          "text": [
            "-2 -1 0 1 2 3 4 "
          ],
          "name": "stdout"
        }
      ]
    },
    {
      "cell_type": "markdown",
      "metadata": {
        "id": "xWoENf-zUJsq"
      },
      "source": [
        "Por último, si no queremos que se incremente en 1. Si por ejemplo queremos una secuencia de número pares"
      ]
    },
    {
      "cell_type": "code",
      "metadata": {
        "colab": {
          "base_uri": "https://localhost:8080/"
        },
        "id": "qDBvKlhrUPsI",
        "outputId": "8d82333e-c02e-416d-991c-143d024359c1"
      },
      "source": [
        "for i in range(0, 10, 2):\r\n",
        "  print(f'{i} ', end='')"
      ],
      "execution_count": null,
      "outputs": [
        {
          "output_type": "stream",
          "text": [
            "0 2 4 6 8 "
          ],
          "name": "stdout"
        }
      ]
    },
    {
      "cell_type": "markdown",
      "metadata": {
        "id": "BVUXxxTVZXSg"
      },
      "source": [
        "### 4. Diccionarios"
      ]
    },
    {
      "cell_type": "markdown",
      "metadata": {
        "id": "Pt6a13arvIwu"
      },
      "source": [
        "Los diccionarios se usan para guardar datos en pares `key:data`. Son modificables, no ordenados y no permiten duplicidades. Se definen mediante los símbolos `{}`. Admiten items de distintos tipos de datos"
      ]
    },
    {
      "cell_type": "code",
      "metadata": {
        "colab": {
          "base_uri": "https://localhost:8080/"
        },
        "id": "Air0ztJ3vv55",
        "outputId": "0a454d86-b6d0-44cc-9723-be856e6855bd"
      },
      "source": [
        "diccionario = {\r\n",
        "  \"brand\": \"Ford\",\r\n",
        "  \"model\": \"Mustang\",\r\n",
        "  \"year\": 1964,\r\n",
        "  \"colors\": [\"red\", \"white\", \"blue\"]\r\n",
        "}\r\n",
        "diccionario"
      ],
      "execution_count": null,
      "outputs": [
        {
          "output_type": "execute_result",
          "data": {
            "text/plain": [
              "{'brand': 'Ford',\n",
              " 'colors': ['red', 'white', 'blue'],\n",
              " 'model': 'Mustang',\n",
              " 'year': 1964}"
            ]
          },
          "metadata": {
            "tags": []
          },
          "execution_count": 8
        }
      ]
    },
    {
      "cell_type": "markdown",
      "metadata": {
        "id": "ZddJ8V0swOl9"
      },
      "source": [
        "Como se ha dicho no permiten duplicidades"
      ]
    },
    {
      "cell_type": "code",
      "metadata": {
        "colab": {
          "base_uri": "https://localhost:8080/"
        },
        "id": "cHnDcOprwVWt",
        "outputId": "daac3805-63be-46d5-c0db-2436e4a57c6a"
      },
      "source": [
        "diccionario = {\r\n",
        "  \"brand\": \"Ford\",\r\n",
        "  \"model\": \"Mustang\",\r\n",
        "  \"year\": 1964,\r\n",
        "  \"year\": 2000,\r\n",
        "  \"colors\": [\"red\", \"white\", \"blue\"]\r\n",
        "}\r\n",
        "diccionario[\"year\"]"
      ],
      "execution_count": null,
      "outputs": [
        {
          "output_type": "execute_result",
          "data": {
            "text/plain": [
              "2000"
            ]
          },
          "metadata": {
            "tags": []
          },
          "execution_count": 10
        }
      ]
    },
    {
      "cell_type": "markdown",
      "metadata": {
        "id": "xBYA00UIwsML"
      },
      "source": [
        "Se puede obtener su longitud mediante la función `len()`"
      ]
    },
    {
      "cell_type": "code",
      "metadata": {
        "colab": {
          "base_uri": "https://localhost:8080/"
        },
        "id": "EV8veNJuwvq7",
        "outputId": "552ae596-7866-4d97-b989-84d700355c79"
      },
      "source": [
        "len(diccionario)"
      ],
      "execution_count": null,
      "outputs": [
        {
          "output_type": "execute_result",
          "data": {
            "text/plain": [
              "4"
            ]
          },
          "metadata": {
            "tags": []
          },
          "execution_count": 11
        }
      ]
    },
    {
      "cell_type": "markdown",
      "metadata": {
        "id": "uY9_Spvww2iU"
      },
      "source": [
        "Como se puede ver la longitud es 4 y no 5, ya que `year` lo cuenta solo una vez"
      ]
    },
    {
      "cell_type": "markdown",
      "metadata": {
        "id": "e0tzL15RxDJi"
      },
      "source": [
        "#### 4.1. Acceder a los items "
      ]
    },
    {
      "cell_type": "markdown",
      "metadata": {
        "id": "6RgdEQpKwGwE"
      },
      "source": [
        "Para acceder a un item lo podemos hacer a través de su `key`"
      ]
    },
    {
      "cell_type": "code",
      "metadata": {
        "colab": {
          "base_uri": "https://localhost:8080/",
          "height": 35
        },
        "id": "BCnBxWO1wCly",
        "outputId": "c4b7c0a5-f98a-43d9-d110-0cde9e711691"
      },
      "source": [
        "diccionario[\"model\"]"
      ],
      "execution_count": null,
      "outputs": [
        {
          "output_type": "execute_result",
          "data": {
            "application/vnd.google.colaboratory.intrinsic+json": {
              "type": "string"
            },
            "text/plain": [
              "'Mustang'"
            ]
          },
          "metadata": {
            "tags": []
          },
          "execution_count": 3
        }
      ]
    },
    {
      "cell_type": "markdown",
      "metadata": {
        "id": "5A0oP_1mxfz_"
      },
      "source": [
        "También se puede acceder mediante el método `get()`"
      ]
    },
    {
      "cell_type": "code",
      "metadata": {
        "colab": {
          "base_uri": "https://localhost:8080/",
          "height": 35
        },
        "id": "PBV2BncDxl_q",
        "outputId": "f8ae0032-5162-4b2b-ad05-10eceb183cb3"
      },
      "source": [
        "diccionario.get(\"model\")"
      ],
      "execution_count": null,
      "outputs": [
        {
          "output_type": "execute_result",
          "data": {
            "application/vnd.google.colaboratory.intrinsic+json": {
              "type": "string"
            },
            "text/plain": [
              "'Mustang'"
            ]
          },
          "metadata": {
            "tags": []
          },
          "execution_count": 12
        }
      ]
    },
    {
      "cell_type": "markdown",
      "metadata": {
        "id": "rLSYC2K8xo3D"
      },
      "source": [
        "Para saber todas las `key`s de los diccionarios se puede usar el método `keys()`"
      ]
    },
    {
      "cell_type": "code",
      "metadata": {
        "colab": {
          "base_uri": "https://localhost:8080/"
        },
        "id": "v7HfhUtPxu74",
        "outputId": "e7f74c83-8c6a-4595-c66f-b848d99a8dab"
      },
      "source": [
        "diccionario.keys()"
      ],
      "execution_count": null,
      "outputs": [
        {
          "output_type": "execute_result",
          "data": {
            "text/plain": [
              "dict_keys(['brand', 'model', 'year', 'colors'])"
            ]
          },
          "metadata": {
            "tags": []
          },
          "execution_count": 13
        }
      ]
    },
    {
      "cell_type": "markdown",
      "metadata": {
        "id": "NfrDTrPfyFDh"
      },
      "source": [
        "Se puede usar una variable para apuntar a las `key`s del diccionario, con lo que llamándola una vez es necesario"
      ]
    },
    {
      "cell_type": "code",
      "metadata": {
        "colab": {
          "base_uri": "https://localhost:8080/"
        },
        "id": "k3X2mDoayN8H",
        "outputId": "3003c8c5-7483-4c83-9b4c-33d9ef8fd648"
      },
      "source": [
        "diccionario = {\r\n",
        "\"brand\": \"Ford\",\r\n",
        "\"model\": \"Mustang\",\r\n",
        "\"year\": 1964\r\n",
        "}\r\n",
        "\r\n",
        "# Se declara una vez la variable que apunta a las keys\r\n",
        "x = diccionario.keys()\r\n",
        "print(x)\r\n",
        "\r\n",
        "# Se añade una nueva key\r\n",
        "diccionario[\"color\"] = \"white\"\r\n",
        "\r\n",
        "# Se consulta la variable que apunta a las key\r\n",
        "print(x)"
      ],
      "execution_count": null,
      "outputs": [
        {
          "output_type": "stream",
          "text": [
            "dict_keys(['brand', 'model', 'year'])\n",
            "dict_keys(['brand', 'model', 'year', 'color'])\n"
          ],
          "name": "stdout"
        }
      ]
    },
    {
      "cell_type": "markdown",
      "metadata": {
        "id": "e8audHRlx5Lg"
      },
      "source": [
        "Para obtener los valores del diccionario se puede usar el método 'values()'"
      ]
    },
    {
      "cell_type": "code",
      "metadata": {
        "colab": {
          "base_uri": "https://localhost:8080/"
        },
        "id": "yCRGhaCFx9fd",
        "outputId": "3c9e257a-99e8-40ab-8e98-1f27746e41c8"
      },
      "source": [
        "diccionario.values()"
      ],
      "execution_count": null,
      "outputs": [
        {
          "output_type": "execute_result",
          "data": {
            "text/plain": [
              "dict_values(['Ford', 'Mustang', 2000, ['red', 'white', 'blue']])"
            ]
          },
          "metadata": {
            "tags": []
          },
          "execution_count": 14
        }
      ]
    },
    {
      "cell_type": "markdown",
      "metadata": {
        "id": "HifGBtmGylKN"
      },
      "source": [
        "Se puede usar una variable para apuntar a los `values`s del diccionario, con lo que llamándola una vez es necesario"
      ]
    },
    {
      "cell_type": "code",
      "metadata": {
        "colab": {
          "base_uri": "https://localhost:8080/"
        },
        "id": "n9yYxQh1yn2r",
        "outputId": "a3e628d7-c01b-443f-af0e-57a9a8a3ae04"
      },
      "source": [
        "diccionario = {\r\n",
        "\"brand\": \"Ford\",\r\n",
        "\"model\": \"Mustang\",\r\n",
        "\"year\": 1964\r\n",
        "}\r\n",
        "\r\n",
        "# Se declara una vez la variable que apunta a los values\r\n",
        "x = diccionario.values()\r\n",
        "print(x)\r\n",
        "\r\n",
        "# Se modifica un value\r\n",
        "diccionario[\"year\"] = 2020\r\n",
        "\r\n",
        "# Se consulta la variable que apunta a los values\r\n",
        "print(x)"
      ],
      "execution_count": null,
      "outputs": [
        {
          "output_type": "stream",
          "text": [
            "dict_values(['Ford', 'Mustang', 1964])\n",
            "dict_values(['Ford', 'Mustang', 2020])\n"
          ],
          "name": "stdout"
        }
      ]
    },
    {
      "cell_type": "markdown",
      "metadata": {
        "id": "G0IjoDX6y8bE"
      },
      "source": [
        "Si lo que se quiere son los `item`s enteros, es decir `key`s y `value`s hay que usar el método `items()`"
      ]
    },
    {
      "cell_type": "code",
      "metadata": {
        "colab": {
          "base_uri": "https://localhost:8080/"
        },
        "id": "v8xVffhQzGCP",
        "outputId": "157ea4e9-b409-457d-a9c3-fccff26b35ac"
      },
      "source": [
        "diccionario.items()"
      ],
      "execution_count": null,
      "outputs": [
        {
          "output_type": "execute_result",
          "data": {
            "text/plain": [
              "dict_items([('brand', 'Ford'), ('model', 'Mustang'), ('year', 2020)])"
            ]
          },
          "metadata": {
            "tags": []
          },
          "execution_count": 19
        }
      ]
    },
    {
      "cell_type": "markdown",
      "metadata": {
        "id": "XYHjxNDYzOcG"
      },
      "source": [
        "Se puede usar una variable para apuntar a los `item`s del diccionario, con lo que llamándola una vez es necesario"
      ]
    },
    {
      "cell_type": "code",
      "metadata": {
        "colab": {
          "base_uri": "https://localhost:8080/"
        },
        "id": "O05iILJTzTv6",
        "outputId": "1272cbda-71af-4245-9491-42b0c9b4a347"
      },
      "source": [
        "diccionario = {\r\n",
        "\"brand\": \"Ford\",\r\n",
        "\"model\": \"Mustang\",\r\n",
        "\"year\": 1964\r\n",
        "}\r\n",
        "\r\n",
        "# Se declara una vez la variable que apunta a los items\r\n",
        "x = diccionario.items()\r\n",
        "print(x)\r\n",
        "\r\n",
        "# Se modifica un value\r\n",
        "diccionario[\"year\"] = 2020\r\n",
        "\r\n",
        "# Se consulta la variable que apunta a los items\r\n",
        "print(x)"
      ],
      "execution_count": null,
      "outputs": [
        {
          "output_type": "stream",
          "text": [
            "dict_items([('brand', 'Ford'), ('model', 'Mustang'), ('year', 1964)])\n",
            "dict_items([('brand', 'Ford'), ('model', 'Mustang'), ('year', 2020)])\n"
          ],
          "name": "stdout"
        }
      ]
    },
    {
      "cell_type": "markdown",
      "metadata": {
        "id": "asEdm1LQzbF-"
      },
      "source": [
        "Se puede checkear si una `key` existe en el diccionario"
      ]
    },
    {
      "cell_type": "code",
      "metadata": {
        "colab": {
          "base_uri": "https://localhost:8080/"
        },
        "id": "FrhmNgvYzgKW",
        "outputId": "146140d2-b2b7-4276-8af9-04f7d8cf36c8"
      },
      "source": [
        "\"model\" in diccionario"
      ],
      "execution_count": null,
      "outputs": [
        {
          "output_type": "execute_result",
          "data": {
            "text/plain": [
              "True"
            ]
          },
          "metadata": {
            "tags": []
          },
          "execution_count": 21
        }
      ]
    },
    {
      "cell_type": "markdown",
      "metadata": {
        "id": "2DrbqmhGzzo8"
      },
      "source": [
        "#### 4.2. Modificar los items "
      ]
    },
    {
      "cell_type": "markdown",
      "metadata": {
        "id": "ZkNqwkihz3NQ"
      },
      "source": [
        "Se puede modificar un `item` accediendo a el directamente"
      ]
    },
    {
      "cell_type": "code",
      "metadata": {
        "colab": {
          "base_uri": "https://localhost:8080/"
        },
        "id": "iavTKPVyz17N",
        "outputId": "9437a915-b4a4-49e5-d6af-cfe5c2cbb05b"
      },
      "source": [
        "diccionario = {\r\n",
        "\"brand\": \"Ford\",\r\n",
        "\"model\": \"Mustang\",\r\n",
        "\"year\": 1964\r\n",
        "}\r\n",
        "\r\n",
        "# Se modifica un item\r\n",
        "diccionario[\"year\"] = 2020\r\n",
        "\r\n",
        "diccionario"
      ],
      "execution_count": null,
      "outputs": [
        {
          "output_type": "execute_result",
          "data": {
            "text/plain": [
              "{'brand': 'Ford', 'model': 'Mustang', 'year': 2020}"
            ]
          },
          "metadata": {
            "tags": []
          },
          "execution_count": 22
        }
      ]
    },
    {
      "cell_type": "markdown",
      "metadata": {
        "id": "pjkheNpb0HRs"
      },
      "source": [
        "O se puede modificar mediante el método `update()`"
      ]
    },
    {
      "cell_type": "code",
      "metadata": {
        "colab": {
          "base_uri": "https://localhost:8080/"
        },
        "id": "Fk5ySfjQ0KZH",
        "outputId": "abfe08d5-f3a5-42bd-df3e-e6bf72b7b19b"
      },
      "source": [
        "diccionario = {\r\n",
        "  \"brand\": \"Ford\",\r\n",
        "  \"model\": \"Mustang\",\r\n",
        "  \"year\": 1964\r\n",
        "}\r\n",
        "\r\n",
        "# Se modifica un item\r\n",
        "diccionario.update({\"year\": 2020})\r\n",
        "\r\n",
        "diccionario"
      ],
      "execution_count": null,
      "outputs": [
        {
          "output_type": "execute_result",
          "data": {
            "text/plain": [
              "{'brand': 'Ford', 'model': 'Mustang', 'year': 2020}"
            ]
          },
          "metadata": {
            "tags": []
          },
          "execution_count": 23
        }
      ]
    },
    {
      "cell_type": "markdown",
      "metadata": {
        "id": "DhQGWfEP0Vy7"
      },
      "source": [
        "#### 4.3. Añadir items "
      ]
    },
    {
      "cell_type": "markdown",
      "metadata": {
        "id": "lSLQtc2o0VzL"
      },
      "source": [
        "Se puede añadir un `item` añadiéndolo sin más"
      ]
    },
    {
      "cell_type": "code",
      "metadata": {
        "colab": {
          "base_uri": "https://localhost:8080/"
        },
        "id": "PnWGZYzG0VzN",
        "outputId": "57f0f2cf-433a-46da-e9b5-c641e553afdf"
      },
      "source": [
        "diccionario = {\r\n",
        "\"brand\": \"Ford\",\r\n",
        "\"model\": \"Mustang\",\r\n",
        "\"year\": 1964\r\n",
        "}\r\n",
        "\r\n",
        "# Se modifica un item\r\n",
        "diccionario[\"colour\"] = \"blue\"\r\n",
        "\r\n",
        "diccionario"
      ],
      "execution_count": null,
      "outputs": [
        {
          "output_type": "execute_result",
          "data": {
            "text/plain": [
              "{'brand': 'Ford', 'colour': 'blue', 'model': 'Mustang', 'year': 1964}"
            ]
          },
          "metadata": {
            "tags": []
          },
          "execution_count": 24
        }
      ]
    },
    {
      "cell_type": "markdown",
      "metadata": {
        "id": "wBDo65oc0VzQ"
      },
      "source": [
        "O se puede añadir mediante el método `update()`"
      ]
    },
    {
      "cell_type": "code",
      "metadata": {
        "colab": {
          "base_uri": "https://localhost:8080/"
        },
        "id": "4M8r8x_M0VzS",
        "outputId": "16b5e8d4-0498-4e0a-8161-10a8a1bc9417"
      },
      "source": [
        "diccionario = {\r\n",
        "  \"brand\": \"Ford\",\r\n",
        "  \"model\": \"Mustang\",\r\n",
        "  \"year\": 1964\r\n",
        "}\r\n",
        "\r\n",
        "# Se modifica un item\r\n",
        "diccionario.update({\"colour\": \"blue\"})\r\n",
        "\r\n",
        "diccionario"
      ],
      "execution_count": null,
      "outputs": [
        {
          "output_type": "execute_result",
          "data": {
            "text/plain": [
              "{'brand': 'Ford', 'colour': 'blue', 'model': 'Mustang', 'year': 1964}"
            ]
          },
          "metadata": {
            "tags": []
          },
          "execution_count": 25
        }
      ]
    },
    {
      "cell_type": "markdown",
      "metadata": {
        "id": "SKmqirfO0saC"
      },
      "source": [
        "#### 4.4. Eliminar items"
      ]
    },
    {
      "cell_type": "markdown",
      "metadata": {
        "id": "7WOxBep30w0F"
      },
      "source": [
        "Se puede eliminar un `item` con una `key` específica mediante el método `pop()`"
      ]
    },
    {
      "cell_type": "code",
      "metadata": {
        "colab": {
          "base_uri": "https://localhost:8080/"
        },
        "id": "HoLQRBsv05Bl",
        "outputId": "77022ab5-d418-412a-816f-b70788a29239"
      },
      "source": [
        "diccionario = {\r\n",
        "  \"brand\": \"Ford\",\r\n",
        "  \"model\": \"Mustang\",\r\n",
        "  \"year\": 1964\r\n",
        "}\r\n",
        "\r\n",
        "# Se elimina un item\r\n",
        "diccionario.pop(\"model\")\r\n",
        "\r\n",
        "diccionario"
      ],
      "execution_count": null,
      "outputs": [
        {
          "output_type": "execute_result",
          "data": {
            "text/plain": [
              "{'brand': 'Ford', 'year': 1964}"
            ]
          },
          "metadata": {
            "tags": []
          },
          "execution_count": 26
        }
      ]
    },
    {
      "cell_type": "markdown",
      "metadata": {
        "id": "uXNmFelm1Vw1"
      },
      "source": [
        "O se puede eliminar un `item` con una `key` específica mediante `del` indicando el nombre de la `key` entre los símbolos `[]`"
      ]
    },
    {
      "cell_type": "code",
      "metadata": {
        "colab": {
          "base_uri": "https://localhost:8080/"
        },
        "id": "FirXMc8I1bk1",
        "outputId": "cafbb7dd-e7d7-4883-cf2d-ccf6dfa627d0"
      },
      "source": [
        "diccionario = {\r\n",
        "  \"brand\": \"Ford\",\r\n",
        "  \"model\": \"Mustang\",\r\n",
        "  \"year\": 1964\r\n",
        "}\r\n",
        "\r\n",
        "# Se elimina un item\r\n",
        "del diccionario[\"model\"]\r\n",
        "\r\n",
        "diccionario"
      ],
      "execution_count": null,
      "outputs": [
        {
          "output_type": "execute_result",
          "data": {
            "text/plain": [
              "{'brand': 'Ford', 'year': 1964}"
            ]
          },
          "metadata": {
            "tags": []
          },
          "execution_count": 29
        }
      ]
    },
    {
      "cell_type": "markdown",
      "metadata": {
        "id": "uXpEVpzm1snM"
      },
      "source": [
        "Se elimina el diccionario entero si se usa `del` y no se especifica la `key` de un `item`"
      ]
    },
    {
      "cell_type": "code",
      "metadata": {
        "colab": {
          "base_uri": "https://localhost:8080/"
        },
        "id": "GrcB2G-r2FcU",
        "outputId": "8837e236-748a-4914-aea7-1bb113bce450"
      },
      "source": [
        "diccionario = {\r\n",
        "  \"brand\": \"Ford\",\r\n",
        "  \"model\": \"Mustang\",\r\n",
        "  \"year\": 1964\r\n",
        "}\r\n",
        "\r\n",
        "# Se elimina un item\r\n",
        "del diccionario\r\n",
        "\r\n",
        "if 'diccionario' not in locals():\r\n",
        "  print(\"diccionario eliminado\")"
      ],
      "execution_count": null,
      "outputs": [
        {
          "output_type": "stream",
          "text": [
            "diccionario eliminado\n"
          ],
          "name": "stdout"
        }
      ]
    },
    {
      "cell_type": "markdown",
      "metadata": {
        "id": "TvG2BpZz1A8L"
      },
      "source": [
        "Si lo que se quiere es eliminar el último `item` introducido se puede usar el método `popitem()`"
      ]
    },
    {
      "cell_type": "code",
      "metadata": {
        "colab": {
          "base_uri": "https://localhost:8080/"
        },
        "id": "8diByaKO1M5p",
        "outputId": "14668065-6618-483b-f85e-49d86cc5ca9d"
      },
      "source": [
        "diccionario = {\r\n",
        "  \"brand\": \"Ford\",\r\n",
        "  \"model\": \"Mustang\",\r\n",
        "  \"year\": 1964\r\n",
        "}\r\n",
        "\r\n",
        "# Se elimina el último item introducido\r\n",
        "diccionario.popitem()\r\n",
        "\r\n",
        "diccionario"
      ],
      "execution_count": null,
      "outputs": [
        {
          "output_type": "execute_result",
          "data": {
            "text/plain": [
              "{'brand': 'Ford', 'model': 'Mustang'}"
            ]
          },
          "metadata": {
            "tags": []
          },
          "execution_count": 27
        }
      ]
    },
    {
      "cell_type": "markdown",
      "metadata": {
        "id": "jodtPAgV25wG"
      },
      "source": [
        "Si se quiere limpiar el diccionario hay que usar el método `clear()`"
      ]
    },
    {
      "cell_type": "code",
      "metadata": {
        "colab": {
          "base_uri": "https://localhost:8080/"
        },
        "id": "DkxaRg-h3CZl",
        "outputId": "987ad7c7-3809-49e1-f695-ed37d31b710a"
      },
      "source": [
        "diccionario = {\r\n",
        "  \"brand\": \"Ford\",\r\n",
        "  \"model\": \"Mustang\",\r\n",
        "  \"year\": 1964\r\n",
        "}\r\n",
        "diccionario.clear()\r\n",
        "diccionario"
      ],
      "execution_count": null,
      "outputs": [
        {
          "output_type": "execute_result",
          "data": {
            "text/plain": [
              "{}"
            ]
          },
          "metadata": {
            "tags": []
          },
          "execution_count": 36
        }
      ]
    },
    {
      "cell_type": "markdown",
      "metadata": {
        "id": "99zvxb7z3UXQ"
      },
      "source": [
        "#### 4.5. Copiar diccionarios"
      ]
    },
    {
      "cell_type": "markdown",
      "metadata": {
        "id": "1TMKYb8F3UXp"
      },
      "source": [
        "No se pueden copiar diccionarios mediante `diccionario1 = diccionario2`, ya que si se modifica `diccionario1` también se modifica `diccionario2`"
      ]
    },
    {
      "cell_type": "code",
      "metadata": {
        "colab": {
          "base_uri": "https://localhost:8080/"
        },
        "id": "qqwVNCyW3UXp",
        "outputId": "59881cd2-ba60-405d-b535-8a6cf761deca"
      },
      "source": [
        "diccionario1 = {\r\n",
        "  \"brand\": \"Ford\",\r\n",
        "  \"model\": \"Mustang\",\r\n",
        "  \"year\": 1964\r\n",
        "}\r\n",
        "diccionario2 = diccionario1\r\n",
        "diccionario1[\"year\"] = 2000\r\n",
        "diccionario2[\"year\"]"
      ],
      "execution_count": null,
      "outputs": [
        {
          "output_type": "execute_result",
          "data": {
            "text/plain": [
              "2000"
            ]
          },
          "metadata": {
            "tags": []
          },
          "execution_count": 37
        }
      ]
    },
    {
      "cell_type": "markdown",
      "metadata": {
        "id": "-XEDc9-K3UXq"
      },
      "source": [
        "Por lo que hay que usar el método `copy()`"
      ]
    },
    {
      "cell_type": "code",
      "metadata": {
        "colab": {
          "base_uri": "https://localhost:8080/"
        },
        "id": "hHfu0gRe3UXr",
        "outputId": "fcbbb878-7a3c-4c03-f152-72c111afc234"
      },
      "source": [
        "diccionario1 = {\r\n",
        "  \"brand\": \"Ford\",\r\n",
        "  \"model\": \"Mustang\",\r\n",
        "  \"year\": 1964\r\n",
        "}\r\n",
        "diccionario2 = diccionario1.copy()\r\n",
        "diccionario1[\"year\"] = 2000\r\n",
        "diccionario2[\"year\"]"
      ],
      "execution_count": null,
      "outputs": [
        {
          "output_type": "execute_result",
          "data": {
            "text/plain": [
              "1964"
            ]
          },
          "metadata": {
            "tags": []
          },
          "execution_count": 38
        }
      ]
    },
    {
      "cell_type": "markdown",
      "metadata": {
        "id": "dATKiqgl3UXr"
      },
      "source": [
        "O hay que usar el constructor de diccionarios `dict()`"
      ]
    },
    {
      "cell_type": "code",
      "metadata": {
        "colab": {
          "base_uri": "https://localhost:8080/"
        },
        "id": "eaRQxN963UXr",
        "outputId": "2f4ed2c9-a3d3-4ede-cfe6-f22eac2c03e3"
      },
      "source": [
        "diccionario1 = {\r\n",
        "  \"brand\": \"Ford\",\r\n",
        "  \"model\": \"Mustang\",\r\n",
        "  \"year\": 1964\r\n",
        "}\r\n",
        "diccionario2 = dict(diccionario1)\r\n",
        "diccionario1[\"year\"] = 2000\r\n",
        "diccionario2[\"year\"]"
      ],
      "execution_count": null,
      "outputs": [
        {
          "output_type": "execute_result",
          "data": {
            "text/plain": [
              "1964"
            ]
          },
          "metadata": {
            "tags": []
          },
          "execution_count": 40
        }
      ]
    },
    {
      "cell_type": "markdown",
      "metadata": {
        "id": "BKSrSLi84C7h"
      },
      "source": [
        "#### 4.6. Diccionarios nested"
      ]
    },
    {
      "cell_type": "markdown",
      "metadata": {
        "id": "iCHG6Mr54HUQ"
      },
      "source": [
        "Los diccionarios pueden tener `items`s de cualquier tipo de dato, incluso otros diccionarios. A este tipo de diccionarios se les denomina diccionarios `nested`"
      ]
    },
    {
      "cell_type": "code",
      "metadata": {
        "colab": {
          "base_uri": "https://localhost:8080/"
        },
        "id": "FAoyMHE64Ujf",
        "outputId": "4e4818d8-5546-41ca-d481-9abea8968b49"
      },
      "source": [
        "diccionario_nested = {\r\n",
        "  \"child1\" : {\r\n",
        "    \"name\" : \"Emil\",\r\n",
        "    \"year\" : 2004\r\n",
        "  },\r\n",
        "  \"child2\" : {\r\n",
        "    \"name\" : \"Tobias\",\r\n",
        "    \"year\" : 2007\r\n",
        "  },\r\n",
        "  \"child3\" : {\r\n",
        "    \"name\" : \"Linus\",\r\n",
        "    \"year\" : 2011\r\n",
        "  }\r\n",
        "}\r\n",
        "diccionario_nested"
      ],
      "execution_count": null,
      "outputs": [
        {
          "output_type": "execute_result",
          "data": {
            "text/plain": [
              "{'child1': {'name': 'Emil', 'year': 2004},\n",
              " 'child2': {'name': 'Tobias', 'year': 2007},\n",
              " 'child3': {'name': 'Linus', 'year': 2011}}"
            ]
          },
          "metadata": {
            "tags": []
          },
          "execution_count": 41
        }
      ]
    },
    {
      "cell_type": "code",
      "metadata": {
        "colab": {
          "base_uri": "https://localhost:8080/"
        },
        "id": "o3J9KzwP4e1U",
        "outputId": "813e8fc4-813a-4b4e-afd6-5ea0a3e072f0"
      },
      "source": [
        "child1 = {\r\n",
        "  \"name\" : \"Emil\",\r\n",
        "  \"year\" : 2004\r\n",
        "}\r\n",
        "child2 = {\r\n",
        "  \"name\" : \"Tobias\",\r\n",
        "  \"year\" : 2007\r\n",
        "}\r\n",
        "child3 = {\r\n",
        "  \"name\" : \"Linus\",\r\n",
        "  \"year\" : 2011\r\n",
        "}\r\n",
        "\r\n",
        "diccionario_nested = {\r\n",
        "  \"child1\" : child1,\r\n",
        "  \"child2\" : child2,\r\n",
        "  \"child3\" : child3\r\n",
        "}\r\n",
        "\r\n",
        "diccionario_nested"
      ],
      "execution_count": null,
      "outputs": [
        {
          "output_type": "execute_result",
          "data": {
            "text/plain": [
              "{'child1': {'name': 'Emil', 'year': 2004},\n",
              " 'child2': {'name': 'Tobias', 'year': 2007},\n",
              " 'child3': {'name': 'Linus', 'year': 2011}}"
            ]
          },
          "metadata": {
            "tags": []
          },
          "execution_count": 42
        }
      ]
    },
    {
      "cell_type": "markdown",
      "metadata": {
        "id": "bqLGlVmm4pDB"
      },
      "source": [
        "#### 4.7. Métodos de los diccionarios"
      ]
    },
    {
      "cell_type": "markdown",
      "metadata": {
        "id": "8DWitc0s4sTW"
      },
      "source": [
        "Estos son los [métodos](https://www.w3schools.com/python/python_dictionaries_methods.asp) que se pueden usar en los diccionarios"
      ]
    },
    {
      "cell_type": "markdown",
      "metadata": {
        "id": "7oEyr0xWZZ_y"
      },
      "source": [
        "### 5. Sets"
      ]
    },
    {
      "cell_type": "markdown",
      "metadata": {
        "id": "Mezqo3a9Z_8A"
      },
      "source": [
        "#### 5.1. Set"
      ]
    },
    {
      "cell_type": "markdown",
      "metadata": {
        "id": "T8BePxtefajM"
      },
      "source": [
        "Los `sets`s se utilizan en python para guardar un conjunto de items en una sola variable. Se puede guardar items de distinto tipo. Son no ordenados y no tienen indice.\r\n",
        "\r\n",
        "Se diferencian de las listas en que no tienen ni orden ni índice.\r\n",
        "\r\n",
        "Se declaran mediante los símbolos `{}`"
      ]
    },
    {
      "cell_type": "markdown",
      "metadata": {
        "id": "Qwkyo_QTgEKg"
      },
      "source": [
        "Como `set` es una palabra reservada en Python creamos un `set` con el nombre `set_`"
      ]
    },
    {
      "cell_type": "code",
      "metadata": {
        "colab": {
          "base_uri": "https://localhost:8080/"
        },
        "id": "sFqrE6zifzJe",
        "outputId": "07c58143-c208-477c-a9b4-9dd32d10fe7f"
      },
      "source": [
        "set_ = {'item0', 1, 5.3, \"item4\", 5, 6.6}\r\n",
        "set_"
      ],
      "execution_count": null,
      "outputs": [
        {
          "output_type": "execute_result",
          "data": {
            "text/plain": [
              "{1, 5, 5.3, 6.6, 'item0', 'item4'}"
            ]
          },
          "metadata": {
            "tags": []
          },
          "execution_count": 17
        }
      ]
    },
    {
      "cell_type": "markdown",
      "metadata": {
        "id": "9Co3_4J4gU76"
      },
      "source": [
        "No puede haber items duplicados, si encuentra algún item duplicado se queda solo con uno"
      ]
    },
    {
      "cell_type": "code",
      "metadata": {
        "colab": {
          "base_uri": "https://localhost:8080/"
        },
        "id": "2CkpN99vgctG",
        "outputId": "743cb926-2e0a-4342-9d60-743db5d29fd0"
      },
      "source": [
        "set_ = {'item0', 1, 5.3, \"item4\", 5, 6.6, 'item0'}\r\n",
        "set_"
      ],
      "execution_count": null,
      "outputs": [
        {
          "output_type": "execute_result",
          "data": {
            "text/plain": [
              "{1, 5, 5.3, 6.6, 'item0', 'item4'}"
            ]
          },
          "metadata": {
            "tags": []
          },
          "execution_count": 18
        }
      ]
    },
    {
      "cell_type": "markdown",
      "metadata": {
        "id": "kuTfGMPOgmEn"
      },
      "source": [
        "Se puede obtener la longitud del `set` mediante la función `len()`"
      ]
    },
    {
      "cell_type": "code",
      "metadata": {
        "colab": {
          "base_uri": "https://localhost:8080/"
        },
        "id": "nqbIWoXPgrF6",
        "outputId": "047f0d8b-ee9d-4cec-f30f-89583a5c0517"
      },
      "source": [
        "len(set_)"
      ],
      "execution_count": null,
      "outputs": [
        {
          "output_type": "execute_result",
          "data": {
            "text/plain": [
              "6"
            ]
          },
          "metadata": {
            "tags": []
          },
          "execution_count": 19
        }
      ]
    },
    {
      "cell_type": "markdown",
      "metadata": {
        "id": "PbEwjHvvg8rx"
      },
      "source": [
        "Como se puede ver la longitud del set es 6 y no 7, ya que se queda con un solo `'item0'`"
      ]
    },
    {
      "cell_type": "markdown",
      "metadata": {
        "id": "g0QNKz8DhOrd"
      },
      "source": [
        "Se puede checkear si un item se encuentra en el set"
      ]
    },
    {
      "cell_type": "code",
      "metadata": {
        "colab": {
          "base_uri": "https://localhost:8080/"
        },
        "id": "SuG6Lo2ZhSkW",
        "outputId": "214b4061-bd07-4247-e272-b7d8f3d18b51"
      },
      "source": [
        "'item4' in set_"
      ],
      "execution_count": null,
      "outputs": [
        {
          "output_type": "execute_result",
          "data": {
            "text/plain": [
              "True"
            ]
          },
          "metadata": {
            "tags": []
          },
          "execution_count": 20
        }
      ]
    },
    {
      "cell_type": "markdown",
      "metadata": {
        "id": "z2E3y-2shi1-"
      },
      "source": [
        "##### 5.1.1. Añadir items"
      ]
    },
    {
      "cell_type": "markdown",
      "metadata": {
        "id": "CuTdmJSahotu"
      },
      "source": [
        "Se puede añadir un item al set mediante el método `add()`"
      ]
    },
    {
      "cell_type": "code",
      "metadata": {
        "colab": {
          "base_uri": "https://localhost:8080/"
        },
        "id": "vTdjU-EAhltR",
        "outputId": "fd558e79-8946-4358-deb5-3604eafb918f"
      },
      "source": [
        "set_.add(8.8)\r\n",
        "set_"
      ],
      "execution_count": null,
      "outputs": [
        {
          "output_type": "execute_result",
          "data": {
            "text/plain": [
              "{1, 5, 5.3, 6.6, 8.8, 'item0', 'item4'}"
            ]
          },
          "metadata": {
            "tags": []
          },
          "execution_count": 21
        }
      ]
    },
    {
      "cell_type": "markdown",
      "metadata": {
        "id": "k27XyYeRh0Of"
      },
      "source": [
        "Se puede añadir otro set mediante el método `update()`"
      ]
    },
    {
      "cell_type": "code",
      "metadata": {
        "colab": {
          "base_uri": "https://localhost:8080/"
        },
        "id": "IKYJLJxYh5op",
        "outputId": "1cdcbaf7-a8b5-43fe-b2f4-ef489bf03631"
      },
      "source": [
        "set2 = {\"item5\", \"item6\", 7}\r\n",
        "set_.update(set2)\r\n",
        "set_"
      ],
      "execution_count": null,
      "outputs": [
        {
          "output_type": "execute_result",
          "data": {
            "text/plain": [
              "{1, 5, 5.3, 6.6, 7, 8.8, 'item0', 'item4', 'item5', 'item6'}"
            ]
          },
          "metadata": {
            "tags": []
          },
          "execution_count": 22
        }
      ]
    },
    {
      "cell_type": "markdown",
      "metadata": {
        "id": "hm751MNciHHZ"
      },
      "source": [
        "También se pueden añadir items de tipos de datos iterables de Python"
      ]
    },
    {
      "cell_type": "code",
      "metadata": {
        "colab": {
          "base_uri": "https://localhost:8080/"
        },
        "id": "_iHUUiPziL75",
        "outputId": "c0494a91-00dc-4c77-cba7-88fb446bef65"
      },
      "source": [
        "lista = [\"item9\", 10, 11.2]\r\n",
        "set_.update(lista)\r\n",
        "set_"
      ],
      "execution_count": null,
      "outputs": [
        {
          "output_type": "execute_result",
          "data": {
            "text/plain": [
              "{1, 10, 11.2, 5, 5.3, 6.6, 7, 8.8, 'item0', 'item4', 'item5', 'item6', 'item9'}"
            ]
          },
          "metadata": {
            "tags": []
          },
          "execution_count": 23
        }
      ]
    },
    {
      "cell_type": "markdown",
      "metadata": {
        "id": "1TGlcKL8iZVa"
      },
      "source": [
        "##### 5.1.2. Eliminar items"
      ]
    },
    {
      "cell_type": "markdown",
      "metadata": {
        "id": "uF65tWYDif1v"
      },
      "source": [
        "Se puede eliminar un item determinado mediante el método `remove()`"
      ]
    },
    {
      "cell_type": "code",
      "metadata": {
        "colab": {
          "base_uri": "https://localhost:8080/"
        },
        "id": "Kx8DKpXvikMr",
        "outputId": "ae16cdd6-876a-4524-a8ac-19f962245ce8"
      },
      "source": [
        "set_.remove('item9')\r\n",
        "set_"
      ],
      "execution_count": null,
      "outputs": [
        {
          "output_type": "execute_result",
          "data": {
            "text/plain": [
              "{1, 10, 11.2, 5, 5.3, 6.6, 7, 8.8, 'item0', 'item4', 'item5', 'item6'}"
            ]
          },
          "metadata": {
            "tags": []
          },
          "execution_count": 24
        }
      ]
    },
    {
      "cell_type": "markdown",
      "metadata": {
        "id": "TtCod3sQirg7"
      },
      "source": [
        "O mediante el método `discard()`"
      ]
    },
    {
      "cell_type": "code",
      "metadata": {
        "colab": {
          "base_uri": "https://localhost:8080/"
        },
        "id": "4UXQN0EpivKn",
        "outputId": "7923d3e3-27c9-43e8-9bc3-660373e68875"
      },
      "source": [
        "set_.discard('item6')\r\n",
        "set_"
      ],
      "execution_count": null,
      "outputs": [
        {
          "output_type": "execute_result",
          "data": {
            "text/plain": [
              "{1, 10, 11.2, 5, 5.3, 6.6, 7, 8.8, 'item0', 'item4', 'item5'}"
            ]
          },
          "metadata": {
            "tags": []
          },
          "execution_count": 25
        }
      ]
    },
    {
      "cell_type": "markdown",
      "metadata": {
        "id": "UG0QOHrji3qn"
      },
      "source": [
        "Mediante el método `pop()` se puede eliminar el último item, pero como los `set`s no son ordenados no hay manera de saber cúal es el último item. El método `pop()` devuelve el item eliminado"
      ]
    },
    {
      "cell_type": "code",
      "metadata": {
        "colab": {
          "base_uri": "https://localhost:8080/"
        },
        "id": "X9LmVBZ2i_EC",
        "outputId": "b2960c2b-7e43-4b47-e890-59c27db836dd"
      },
      "source": [
        "print(f\"set antes de pop(): {set_}\")\r\n",
        "eliminado = set_.pop()\r\n",
        "print(f\"Se ha eliminado {eliminado}\")"
      ],
      "execution_count": null,
      "outputs": [
        {
          "output_type": "stream",
          "text": [
            "set antes de pop(): {1, 5, 5.3, 6.6, 8.8, 7, 10, 11.2, 'item4', 'item0', 'item5'}\n",
            "Se ha eliminado 1\n"
          ],
          "name": "stdout"
        }
      ]
    },
    {
      "cell_type": "markdown",
      "metadata": {
        "id": "HnrDwpZmjxK0"
      },
      "source": [
        "Mediante el método `clear()` se puede vaciar el set"
      ]
    },
    {
      "cell_type": "code",
      "metadata": {
        "colab": {
          "base_uri": "https://localhost:8080/"
        },
        "id": "z0NlBUFdj0sx",
        "outputId": "716cc094-f69e-4b26-f994-bd5640116c4d"
      },
      "source": [
        "set_.clear()\r\n",
        "set_"
      ],
      "execution_count": null,
      "outputs": [
        {
          "output_type": "execute_result",
          "data": {
            "text/plain": [
              "set()"
            ]
          },
          "metadata": {
            "tags": []
          },
          "execution_count": 27
        }
      ]
    },
    {
      "cell_type": "markdown",
      "metadata": {
        "id": "coI1XsJhj7Hj"
      },
      "source": [
        "Por úlitmo, con `del` se puede eliminar el set"
      ]
    },
    {
      "cell_type": "code",
      "metadata": {
        "colab": {
          "base_uri": "https://localhost:8080/"
        },
        "id": "_xB5qAUqkRA8",
        "outputId": "a92f6f58-605a-4071-d20b-0c62de702236"
      },
      "source": [
        "del set_\r\n",
        "\r\n",
        "if 'set_' not in locals():\r\n",
        "  print(\"set eliminado\")"
      ],
      "execution_count": null,
      "outputs": [
        {
          "output_type": "stream",
          "text": [
            "set eliminado\n"
          ],
          "name": "stdout"
        }
      ]
    },
    {
      "cell_type": "markdown",
      "metadata": {
        "id": "qvBqEGDzkgGP"
      },
      "source": [
        "##### 5.1.3. Unir items"
      ]
    },
    {
      "cell_type": "markdown",
      "metadata": {
        "id": "8jgM0iNSkhtS"
      },
      "source": [
        "Una forma de unir sets es mediante el método `union()`"
      ]
    },
    {
      "cell_type": "code",
      "metadata": {
        "colab": {
          "base_uri": "https://localhost:8080/"
        },
        "id": "AsLR8ixJkpV-",
        "outputId": "8f343074-a669-4b57-f874-6c0478e49f17"
      },
      "source": [
        "set1 = {\"a\", \"b\" , \"c\"}\r\n",
        "set2 = {1, 2, 3}\r\n",
        "set3 = set1.union(set2)\r\n",
        "set3"
      ],
      "execution_count": null,
      "outputs": [
        {
          "output_type": "execute_result",
          "data": {
            "text/plain": [
              "{1, 2, 3, 'a', 'b', 'c'}"
            ]
          },
          "metadata": {
            "tags": []
          },
          "execution_count": 29
        }
      ]
    },
    {
      "cell_type": "markdown",
      "metadata": {
        "id": "XtIU61J7ktFe"
      },
      "source": [
        "Otra forma es mediante el método `update()`, pero de esta manera se añade un set en otro, no se crea uno nuevo"
      ]
    },
    {
      "cell_type": "code",
      "metadata": {
        "colab": {
          "base_uri": "https://localhost:8080/"
        },
        "id": "cckwqzDvk0AE",
        "outputId": "45f9373e-e0a6-48f8-9eb9-8213cc488d06"
      },
      "source": [
        "set1 = {\"a\", \"b\" , \"c\"}\r\n",
        "set2 = {1, 2, 3}\r\n",
        "set1.update(set2)\r\n",
        "set1"
      ],
      "execution_count": null,
      "outputs": [
        {
          "output_type": "execute_result",
          "data": {
            "text/plain": [
              "{1, 2, 3, 'a', 'b', 'c'}"
            ]
          },
          "metadata": {
            "tags": []
          },
          "execution_count": 30
        }
      ]
    },
    {
      "cell_type": "markdown",
      "metadata": {
        "id": "ZlTpvJ8WlTQU"
      },
      "source": [
        "Estos métodos de union elimina los duplicados, pero si queremos obtener los items duplicados en dos sets usamos el método `intersection()`"
      ]
    },
    {
      "cell_type": "code",
      "metadata": {
        "colab": {
          "base_uri": "https://localhost:8080/"
        },
        "id": "iGu6yzoVlWj3",
        "outputId": "bc78d5a8-13b9-4f1f-e96f-1e0c14eb579a"
      },
      "source": [
        "set1 = {\"apple\", \"banana\", \"cherry\"}\r\n",
        "set2 = {\"google\", \"microsoft\", \"apple\"}\r\n",
        "\r\n",
        "set3 = set1.intersection(set2)\r\n",
        "set3"
      ],
      "execution_count": null,
      "outputs": [
        {
          "output_type": "execute_result",
          "data": {
            "text/plain": [
              "{'apple'}"
            ]
          },
          "metadata": {
            "tags": []
          },
          "execution_count": 35
        }
      ]
    },
    {
      "cell_type": "markdown",
      "metadata": {
        "id": "odcY0EgUk7wF"
      },
      "source": [
        "Si queremos obtener los items duplicados en dos sets, pero sin crear un set nuevo, usamos el método `intersection_update()`"
      ]
    },
    {
      "cell_type": "code",
      "metadata": {
        "colab": {
          "base_uri": "https://localhost:8080/"
        },
        "id": "gZGuaYoLlFgR",
        "outputId": "0677ebaa-7279-4247-d8f7-2e2857c6f49a"
      },
      "source": [
        "set1 = {\"apple\", \"banana\", \"cherry\"}\r\n",
        "set2 = {\"google\", \"microsoft\", \"apple\"}\r\n",
        "\r\n",
        "set1.intersection_update(set2)\r\n",
        "set1"
      ],
      "execution_count": null,
      "outputs": [
        {
          "output_type": "execute_result",
          "data": {
            "text/plain": [
              "{'apple'}"
            ]
          },
          "metadata": {
            "tags": []
          },
          "execution_count": 36
        }
      ]
    },
    {
      "cell_type": "markdown",
      "metadata": {
        "id": "fTt6Pe8aluGm"
      },
      "source": [
        "Ahora al revés, si queremos quedarnos con los no duplicados usamos el método `symmetric_difference()`. \r\n",
        "\r\n",
        "La diferencia entre eso y la unión entre dos sets es que en la unión se queda con todos los items, pero los que están duplicados solo los coge una vez. Ahora nos quedamos con los que no están duplicados"
      ]
    },
    {
      "cell_type": "code",
      "metadata": {
        "colab": {
          "base_uri": "https://localhost:8080/"
        },
        "id": "GLUjkTVGmGxN",
        "outputId": "aebefa2d-ef05-4628-c8f8-bb43acb72190"
      },
      "source": [
        "set1 = {\"apple\", \"banana\", \"cherry\"}\r\n",
        "set2 = {\"google\", \"microsoft\", \"apple\"}\r\n",
        "\r\n",
        "set3 = set1.symmetric_difference(set2)\r\n",
        "set3"
      ],
      "execution_count": null,
      "outputs": [
        {
          "output_type": "execute_result",
          "data": {
            "text/plain": [
              "{'banana', 'cherry', 'google', 'microsoft'}"
            ]
          },
          "metadata": {
            "tags": []
          },
          "execution_count": 37
        }
      ]
    },
    {
      "cell_type": "markdown",
      "metadata": {
        "id": "nxaXg1lvmOfX"
      },
      "source": [
        "Si queremos quedarnos con los no duplicados sin crear un set nuevo usamos el método `symmetric_difference_update()`"
      ]
    },
    {
      "cell_type": "code",
      "metadata": {
        "colab": {
          "base_uri": "https://localhost:8080/"
        },
        "id": "UPbfYh2PmX6O",
        "outputId": "2ace457d-d6e4-4a29-f554-694883ffbee1"
      },
      "source": [
        "set1 = {\"apple\", \"banana\", \"cherry\"}\r\n",
        "set2 = {\"google\", \"microsoft\", \"apple\"}\r\n",
        "\r\n",
        "set1.symmetric_difference_update(set2)\r\n",
        "set1"
      ],
      "execution_count": null,
      "outputs": [
        {
          "output_type": "execute_result",
          "data": {
            "text/plain": [
              "{'banana', 'cherry', 'google', 'microsoft'}"
            ]
          },
          "metadata": {
            "tags": []
          },
          "execution_count": 38
        }
      ]
    },
    {
      "cell_type": "markdown",
      "metadata": {
        "id": "f-1-LgWpmf-c"
      },
      "source": [
        "##### 5.1.4. Métodos de los sets"
      ]
    },
    {
      "cell_type": "markdown",
      "metadata": {
        "id": "4Rh2tGnkmlbs"
      },
      "source": [
        "Estos son los [métodos](https://www.w3schools.com/python/python_sets_methods.asp) que se pueden usar en los sets"
      ]
    },
    {
      "cell_type": "markdown",
      "metadata": {
        "id": "ijxIwaxraDFO"
      },
      "source": [
        "#### 5.2. Frozenset"
      ]
    },
    {
      "cell_type": "markdown",
      "metadata": {
        "id": "lU8UdGoimsox"
      },
      "source": [
        "Los `frozenset`s son como los `set`s pero con la salvedad de que son inmutables, al igual que las `tupla`s son como las `list`s pero inmutables. Por lo que no podremos añadir o eliminar items\r\n"
      ]
    },
    {
      "cell_type": "markdown",
      "metadata": {
        "id": "hfBghjhuZdYY"
      },
      "source": [
        "### 6. Booleanos"
      ]
    },
    {
      "cell_type": "markdown",
      "metadata": {
        "id": "gYwAWhEKnH0H"
      },
      "source": [
        "Hay solo dos booleanos en Python: `True` y `False`\r\n",
        "\r\n"
      ]
    },
    {
      "cell_type": "markdown",
      "metadata": {
        "id": "EOZvJFErnZmu"
      },
      "source": [
        "Mediante la función `bool()` se puede evaluar si cualquier cosa es `True` o `False`"
      ]
    },
    {
      "cell_type": "code",
      "metadata": {
        "colab": {
          "base_uri": "https://localhost:8080/"
        },
        "id": "1REXUQOxnfZ1",
        "outputId": "d03afe8f-3110-4d66-9c5e-9878d9c5a8f0"
      },
      "source": [
        "print(bool(\"Hello\"))\r\n",
        "print(bool(15))\r\n",
        "print(bool(0))"
      ],
      "execution_count": null,
      "outputs": [
        {
          "output_type": "stream",
          "text": [
            "True\n",
            "True\n",
            "False\n"
          ],
          "name": "stdout"
        }
      ]
    },
    {
      "cell_type": "markdown",
      "metadata": {
        "id": "of8HDP7jnmrU"
      },
      "source": [
        "#### 6.1. Otros tipos de datos True o False"
      ]
    },
    {
      "cell_type": "markdown",
      "metadata": {
        "id": "1iYLFhQEnp4U"
      },
      "source": [
        "Los siguientes datos son `True`:\r\n",
        "*   Cualquier string que no esté vacío\r\n",
        "*   Cualquier número escepto el 0\r\n",
        "*   Cualquier lista, tupla, diccionario o set que no esté vacío\r\n",
        "\r\n"
      ]
    },
    {
      "cell_type": "code",
      "metadata": {
        "colab": {
          "base_uri": "https://localhost:8080/"
        },
        "id": "tmd1Ji_RoBuH",
        "outputId": "bc47f37f-bfbe-4dc9-d63e-54eb1f8b670c"
      },
      "source": [
        "print(bool(\"Hola\"))\r\n",
        "print(bool(\"\"))"
      ],
      "execution_count": null,
      "outputs": [
        {
          "output_type": "stream",
          "text": [
            "True\n",
            "False\n"
          ],
          "name": "stdout"
        }
      ]
    },
    {
      "cell_type": "code",
      "metadata": {
        "colab": {
          "base_uri": "https://localhost:8080/"
        },
        "id": "HDyk6bOuoJo-",
        "outputId": "27a86d97-00b1-46ce-c62b-eea2802f5936"
      },
      "source": [
        "print(bool(3))\r\n",
        "print(bool(0))"
      ],
      "execution_count": null,
      "outputs": [
        {
          "output_type": "stream",
          "text": [
            "True\n",
            "False\n"
          ],
          "name": "stdout"
        }
      ]
    },
    {
      "cell_type": "code",
      "metadata": {
        "colab": {
          "base_uri": "https://localhost:8080/"
        },
        "id": "op-NW-f5oKrU",
        "outputId": "2be281c2-5231-4c6e-b051-b2db2ba838bc"
      },
      "source": [
        "lista = [1, 2, 3]\r\n",
        "print(bool(lista))\r\n",
        "\r\n",
        "lista = []\r\n",
        "print(bool(lista))"
      ],
      "execution_count": null,
      "outputs": [
        {
          "output_type": "stream",
          "text": [
            "True\n",
            "False\n"
          ],
          "name": "stdout"
        }
      ]
    },
    {
      "cell_type": "code",
      "metadata": {
        "colab": {
          "base_uri": "https://localhost:8080/"
        },
        "id": "w03mKZc3oR6v",
        "outputId": "50450c4e-49f0-405c-d780-dd52ccc4f987"
      },
      "source": [
        "tupla = (1, 2, 3)\r\n",
        "print(bool(tupla))\r\n",
        "\r\n",
        "tupla = ()\r\n",
        "print(bool(tupla))"
      ],
      "execution_count": null,
      "outputs": [
        {
          "output_type": "stream",
          "text": [
            "True\n",
            "False\n"
          ],
          "name": "stdout"
        }
      ]
    },
    {
      "cell_type": "code",
      "metadata": {
        "colab": {
          "base_uri": "https://localhost:8080/"
        },
        "id": "dJfUya7goYJV",
        "outputId": "55082d43-c54f-47f5-e87f-2f85d82c3695"
      },
      "source": [
        "diccionario = {\r\n",
        "  \"brand\": \"Ford\",\r\n",
        "  \"model\": \"Mustang\",\r\n",
        "  \"year\": 1964,\r\n",
        "  \"colors\": [\"red\", \"white\", \"blue\"]\r\n",
        "}\r\n",
        "print(bool(diccionario))\r\n",
        "\r\n",
        "diccionario.clear()\r\n",
        "print(bool(diccionario))"
      ],
      "execution_count": null,
      "outputs": [
        {
          "output_type": "stream",
          "text": [
            "True\n",
            "False\n"
          ],
          "name": "stdout"
        }
      ]
    },
    {
      "cell_type": "code",
      "metadata": {
        "colab": {
          "base_uri": "https://localhost:8080/"
        },
        "id": "P-b0a-rEoqlc",
        "outputId": "ede8991f-5e35-4b00-f4e8-0d92b2ed5e7c"
      },
      "source": [
        "set_ = {'item0', 1, 5.3, \"item4\", 5, 6.6}\r\n",
        "print(bool(set_))\r\n",
        "\r\n",
        "set_.clear()\r\n",
        "print(bool(set_))"
      ],
      "execution_count": null,
      "outputs": [
        {
          "output_type": "stream",
          "text": [
            "True\n",
            "False\n"
          ],
          "name": "stdout"
        }
      ]
    },
    {
      "cell_type": "markdown",
      "metadata": {
        "id": "BgT3Hnc0ZfjL"
      },
      "source": [
        "### 7. Binarios"
      ]
    },
    {
      "cell_type": "markdown",
      "metadata": {
        "id": "MfU4l6OCaMUA"
      },
      "source": [
        "#### 7.1. Bytes"
      ]
    },
    {
      "cell_type": "markdown",
      "metadata": {
        "id": "JUqLiO5xqWV3"
      },
      "source": [
        "El tipo `bytes` es una secuencia inmutable de bytes. Solo admiten caracteres ASCII. También se pueden representar los bytes mediante números enteros cuyo valores deben cumplir `0 <= x < 256`"
      ]
    },
    {
      "cell_type": "markdown",
      "metadata": {
        "id": "I9hYBQzeqpD-"
      },
      "source": [
        "Para crear un tipo byte debemos introducir antes el caracter `b`"
      ]
    },
    {
      "cell_type": "code",
      "metadata": {
        "colab": {
          "base_uri": "https://localhost:8080/"
        },
        "id": "NIuckty4qha0",
        "outputId": "a3850a91-82a0-473e-860e-d25103ce742c"
      },
      "source": [
        "byte = b\"DeepMaxFN\"\r\n",
        "byte"
      ],
      "execution_count": 6,
      "outputs": [
        {
          "output_type": "execute_result",
          "data": {
            "text/plain": [
              "b'DeepMaxFN'"
            ]
          },
          "metadata": {
            "tags": []
          },
          "execution_count": 6
        }
      ]
    },
    {
      "cell_type": "markdown",
      "metadata": {
        "id": "FGv6Ac6TrB2Z"
      },
      "source": [
        "También se pueden crear mediante su contructor `bytes()`"
      ]
    },
    {
      "cell_type": "code",
      "metadata": {
        "colab": {
          "base_uri": "https://localhost:8080/"
        },
        "id": "8iPqaAuHrG5e",
        "outputId": "bab25a8d-8420-4ff5-8493-7e8e59083e72"
      },
      "source": [
        "byte = bytes(10)\r\n",
        "byte"
      ],
      "execution_count": 3,
      "outputs": [
        {
          "output_type": "execute_result",
          "data": {
            "text/plain": [
              "b'\\x00\\x00\\x00\\x00\\x00\\x00\\x00\\x00\\x00\\x00'"
            ]
          },
          "metadata": {
            "tags": []
          },
          "execution_count": 3
        }
      ]
    },
    {
      "cell_type": "code",
      "metadata": {
        "colab": {
          "base_uri": "https://localhost:8080/"
        },
        "id": "aKak5c2drKd1",
        "outputId": "4287689e-b8d0-4f98-c66f-ef73d8e00731"
      },
      "source": [
        "byte = bytes(range(10))\r\n",
        "byte"
      ],
      "execution_count": 5,
      "outputs": [
        {
          "output_type": "execute_result",
          "data": {
            "text/plain": [
              "b'\\x00\\x01\\x02\\x03\\x04\\x05\\x06\\x07\\x08\\t'"
            ]
          },
          "metadata": {
            "tags": []
          },
          "execution_count": 5
        }
      ]
    },
    {
      "cell_type": "markdown",
      "metadata": {
        "id": "w4xkSSgyrZ7p"
      },
      "source": [
        "Se pueden concatenar bytes mediante el operador `+`"
      ]
    },
    {
      "cell_type": "code",
      "metadata": {
        "colab": {
          "base_uri": "https://localhost:8080/"
        },
        "id": "IZUgQAfrrgHn",
        "outputId": "6930039f-9069-4cf5-f26a-9a01a8be7b65"
      },
      "source": [
        "byte1 = b'DeepMax'\r\n",
        "byte2 = b'FN'\r\n",
        "byte3 = byte1 + byte2\r\n",
        "byte3"
      ],
      "execution_count": 7,
      "outputs": [
        {
          "output_type": "execute_result",
          "data": {
            "text/plain": [
              "b'DeepMaxFN'"
            ]
          },
          "metadata": {
            "tags": []
          },
          "execution_count": 7
        }
      ]
    },
    {
      "cell_type": "markdown",
      "metadata": {
        "id": "wyYc2mcprqEW"
      },
      "source": [
        "O medainte la repetición con el operador `*`"
      ]
    },
    {
      "cell_type": "code",
      "metadata": {
        "colab": {
          "base_uri": "https://localhost:8080/"
        },
        "id": "jUCDHJYJruvJ",
        "outputId": "b86a7fab-0800-4293-903e-3dd0207d6a32"
      },
      "source": [
        "byte1 = b'DeepMaxFN '\r\n",
        "byte2 = byte1 * 3\r\n",
        "byte2"
      ],
      "execution_count": 8,
      "outputs": [
        {
          "output_type": "execute_result",
          "data": {
            "text/plain": [
              "b'DeepMaxFN DeepMaxFN DeepMaxFN '"
            ]
          },
          "metadata": {
            "tags": []
          },
          "execution_count": 8
        }
      ]
    },
    {
      "cell_type": "markdown",
      "metadata": {
        "id": "vJjLkW3wr26q"
      },
      "source": [
        "Podemos comprobar si un caracter está dentro de la cadena"
      ]
    },
    {
      "cell_type": "code",
      "metadata": {
        "colab": {
          "base_uri": "https://localhost:8080/"
        },
        "id": "xR9URN4Wr5-5",
        "outputId": "847fcf75-c67d-40fb-db58-f328e031cf5c"
      },
      "source": [
        "b'D' in byte1"
      ],
      "execution_count": 10,
      "outputs": [
        {
          "output_type": "execute_result",
          "data": {
            "text/plain": [
              "True"
            ]
          },
          "metadata": {
            "tags": []
          },
          "execution_count": 10
        }
      ]
    },
    {
      "cell_type": "markdown",
      "metadata": {
        "id": "tuTA8gSqsk-0"
      },
      "source": [
        "Estos son los [métodos](https://plataforma.josedomingo.org/pledin/cursos/python3/curso/u30/#m%C3%A9todos-de-bytes-y-bytearray) que se pueden usar en los `bytes`"
      ]
    },
    {
      "cell_type": "markdown",
      "metadata": {
        "id": "4ZoLmGbDaPVF"
      },
      "source": [
        "#### 7.2. Bytearray"
      ]
    },
    {
      "cell_type": "markdown",
      "metadata": {
        "id": "GSzWgym0s0RC"
      },
      "source": [
        "Los `bytearray`s son igual que los `bytes` solo que son mutables"
      ]
    },
    {
      "cell_type": "code",
      "metadata": {
        "colab": {
          "base_uri": "https://localhost:8080/"
        },
        "id": "2_edjY5OtCNM",
        "outputId": "dde9f3f9-2f45-4bb4-b86d-dea3d0e9f5be"
      },
      "source": [
        "byte_array = bytearray(b'DeepMaxFN')\r\n",
        "byte_array"
      ],
      "execution_count": 12,
      "outputs": [
        {
          "output_type": "execute_result",
          "data": {
            "text/plain": [
              "bytearray(b'DeepMaxFN')"
            ]
          },
          "metadata": {
            "tags": []
          },
          "execution_count": 12
        }
      ]
    },
    {
      "cell_type": "markdown",
      "metadata": {
        "id": "-Ypi8660aST-"
      },
      "source": [
        "#### 7.3. Memoryview"
      ]
    },
    {
      "cell_type": "markdown",
      "metadata": {
        "id": "XEjNAeSqv0U2"
      },
      "source": [
        "Los objetos `memoryview` permiten que el código Python acceda a los datos internos de un objeto que admite el protocolo de búfer sin realizar copias.\r\n",
        "\r\n",
        "La función `memoryview()` permite el acceso directo de lectura y escritura a los datos orientados a bytes de un objeto sin necesidad de copiarlos primero. Eso puede generar grandes ganancias de rendimiento cuando se opera con objetos grandes, ya que no crea una copia al cortar.\r\n",
        "\r\n",
        "Protocolo de búfer, puede crear otro objeto de acceso para modificar los datos grandes sin copiarlos. Esto hace que el programa utilice menos memoria y aumenta la velocidad de ejecución."
      ]
    },
    {
      "cell_type": "code",
      "metadata": {
        "id": "yr8pc6-2WNdO",
        "colab": {
          "base_uri": "https://localhost:8080/"
        },
        "outputId": "4e06c6b6-2f03-4238-911b-8ef4a01a2f3c"
      },
      "source": [
        "byte_array = bytearray('XYZ', 'utf-8')\r\n",
        "print(f'Antes de acceder a la memoria: {byte_array}')\r\n",
        "\r\n",
        "mem_view = memoryview(byte_array)\r\n",
        "\r\n",
        "mem_view[2]= 74\r\n",
        "print(f'Después de acceder a la memoria: {byte_array}')"
      ],
      "execution_count": 13,
      "outputs": [
        {
          "output_type": "stream",
          "text": [
            "Antes de acceder a la memoria: bytearray(b'XYZ')\n",
            "Después de acceder a la memoria: bytearray(b'XYJ')\n"
          ],
          "name": "stdout"
        }
      ]
    }
  ]
}